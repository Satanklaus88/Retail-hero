{
 "cells": [
  {
   "cell_type": "code",
   "execution_count": 52,
   "metadata": {},
   "outputs": [
    {
     "name": "stdout",
     "output_type": "stream",
     "text": [
      "Populating the interactive namespace from numpy and matplotlib\n"
     ]
    }
   ],
   "source": [
    "import numpy as np\n",
    "import pandas as pd\n",
    "from sklearn.model_selection import StratifiedKFold\n",
    "from sklearn.linear_model import SGDClassifier, LogisticRegression\n",
    "from sklearn.metrics import roc_auc_score,log_loss\n",
    "from tqdm import tqdm\n",
    "from sklearn.preprocessing import  OneHotEncoder,StandardScaler\n",
    "import pandas_profiling\n",
    "import datetime\n",
    "from catboost import CatBoostClassifier\n",
    "%pylab inline\n",
    "warnings.filterwarnings('ignore')"
   ]
  },
  {
   "cell_type": "code",
   "execution_count": 2,
   "metadata": {},
   "outputs": [],
   "source": [
    "df = pd.read_csv('data/uplift_train.csv')\n",
    "df1 = pd.read_csv('data/clients.csv')\n",
    "df2 = pd.read_csv('data/products.csv')\n",
    "test = pd.read_csv('data/uplift_test.csv')"
   ]
  },
  {
   "cell_type": "code",
   "execution_count": 3,
   "metadata": {},
   "outputs": [
    {
     "data": {
      "text/html": [
       "<div>\n",
       "<style scoped>\n",
       "    .dataframe tbody tr th:only-of-type {\n",
       "        vertical-align: middle;\n",
       "    }\n",
       "\n",
       "    .dataframe tbody tr th {\n",
       "        vertical-align: top;\n",
       "    }\n",
       "\n",
       "    .dataframe thead th {\n",
       "        text-align: right;\n",
       "    }\n",
       "</style>\n",
       "<table border=\"1\" class=\"dataframe\">\n",
       "  <thead>\n",
       "    <tr style=\"text-align: right;\">\n",
       "      <th></th>\n",
       "      <th>client_id</th>\n",
       "      <th>first_issue_date</th>\n",
       "      <th>first_redeem_date</th>\n",
       "      <th>age</th>\n",
       "      <th>gender</th>\n",
       "      <th>treatment_flg</th>\n",
       "      <th>target</th>\n",
       "    </tr>\n",
       "  </thead>\n",
       "  <tbody>\n",
       "    <tr>\n",
       "      <th>0</th>\n",
       "      <td>000012768d</td>\n",
       "      <td>2017-08-05 15:40:48</td>\n",
       "      <td>2018-01-04 19:30:07</td>\n",
       "      <td>45</td>\n",
       "      <td>U</td>\n",
       "      <td>0</td>\n",
       "      <td>1</td>\n",
       "    </tr>\n",
       "    <tr>\n",
       "      <th>1</th>\n",
       "      <td>000036f903</td>\n",
       "      <td>2017-04-10 13:54:23</td>\n",
       "      <td>2017-04-23 12:37:56</td>\n",
       "      <td>72</td>\n",
       "      <td>F</td>\n",
       "      <td>1</td>\n",
       "      <td>1</td>\n",
       "    </tr>\n",
       "    <tr>\n",
       "      <th>2</th>\n",
       "      <td>00010925a5</td>\n",
       "      <td>2018-07-24 16:21:29</td>\n",
       "      <td>2018-09-14 16:12:49</td>\n",
       "      <td>83</td>\n",
       "      <td>U</td>\n",
       "      <td>1</td>\n",
       "      <td>1</td>\n",
       "    </tr>\n",
       "    <tr>\n",
       "      <th>3</th>\n",
       "      <td>0001f552b0</td>\n",
       "      <td>2017-06-30 19:20:38</td>\n",
       "      <td>2018-08-28 12:59:45</td>\n",
       "      <td>33</td>\n",
       "      <td>F</td>\n",
       "      <td>1</td>\n",
       "      <td>1</td>\n",
       "    </tr>\n",
       "    <tr>\n",
       "      <th>4</th>\n",
       "      <td>00020e7b18</td>\n",
       "      <td>2017-11-27 11:41:45</td>\n",
       "      <td>2018-01-10 17:50:05</td>\n",
       "      <td>73</td>\n",
       "      <td>U</td>\n",
       "      <td>1</td>\n",
       "      <td>1</td>\n",
       "    </tr>\n",
       "    <tr>\n",
       "      <th>...</th>\n",
       "      <td>...</td>\n",
       "      <td>...</td>\n",
       "      <td>...</td>\n",
       "      <td>...</td>\n",
       "      <td>...</td>\n",
       "      <td>...</td>\n",
       "      <td>...</td>\n",
       "    </tr>\n",
       "    <tr>\n",
       "      <th>200034</th>\n",
       "      <td>fffe0abb97</td>\n",
       "      <td>2017-11-27 08:56:54</td>\n",
       "      <td>2018-02-11 09:26:08</td>\n",
       "      <td>35</td>\n",
       "      <td>F</td>\n",
       "      <td>0</td>\n",
       "      <td>0</td>\n",
       "    </tr>\n",
       "    <tr>\n",
       "      <th>200035</th>\n",
       "      <td>fffe0ed719</td>\n",
       "      <td>2017-09-15 08:53:24</td>\n",
       "      <td>2017-12-12 14:50:12</td>\n",
       "      <td>69</td>\n",
       "      <td>U</td>\n",
       "      <td>0</td>\n",
       "      <td>1</td>\n",
       "    </tr>\n",
       "    <tr>\n",
       "      <th>200036</th>\n",
       "      <td>fffea1204c</td>\n",
       "      <td>2018-01-31 16:59:37</td>\n",
       "      <td>2018-03-12 17:02:27</td>\n",
       "      <td>73</td>\n",
       "      <td>F</td>\n",
       "      <td>0</td>\n",
       "      <td>1</td>\n",
       "    </tr>\n",
       "    <tr>\n",
       "      <th>200037</th>\n",
       "      <td>fffeca6d22</td>\n",
       "      <td>2017-12-28 11:56:13</td>\n",
       "      <td>2017-12-28 11:56:13</td>\n",
       "      <td>77</td>\n",
       "      <td>F</td>\n",
       "      <td>1</td>\n",
       "      <td>0</td>\n",
       "    </tr>\n",
       "    <tr>\n",
       "      <th>200038</th>\n",
       "      <td>fffff6ce77</td>\n",
       "      <td>2017-08-03 20:25:12</td>\n",
       "      <td>2017-08-26 16:41:41</td>\n",
       "      <td>42</td>\n",
       "      <td>U</td>\n",
       "      <td>0</td>\n",
       "      <td>1</td>\n",
       "    </tr>\n",
       "  </tbody>\n",
       "</table>\n",
       "<p>200039 rows × 7 columns</p>\n",
       "</div>"
      ],
      "text/plain": [
       "         client_id     first_issue_date    first_redeem_date  age gender  \\\n",
       "0       000012768d  2017-08-05 15:40:48  2018-01-04 19:30:07   45      U   \n",
       "1       000036f903  2017-04-10 13:54:23  2017-04-23 12:37:56   72      F   \n",
       "2       00010925a5  2018-07-24 16:21:29  2018-09-14 16:12:49   83      U   \n",
       "3       0001f552b0  2017-06-30 19:20:38  2018-08-28 12:59:45   33      F   \n",
       "4       00020e7b18  2017-11-27 11:41:45  2018-01-10 17:50:05   73      U   \n",
       "...            ...                  ...                  ...  ...    ...   \n",
       "200034  fffe0abb97  2017-11-27 08:56:54  2018-02-11 09:26:08   35      F   \n",
       "200035  fffe0ed719  2017-09-15 08:53:24  2017-12-12 14:50:12   69      U   \n",
       "200036  fffea1204c  2018-01-31 16:59:37  2018-03-12 17:02:27   73      F   \n",
       "200037  fffeca6d22  2017-12-28 11:56:13  2017-12-28 11:56:13   77      F   \n",
       "200038  fffff6ce77  2017-08-03 20:25:12  2017-08-26 16:41:41   42      U   \n",
       "\n",
       "        treatment_flg  target  \n",
       "0                   0       1  \n",
       "1                   1       1  \n",
       "2                   1       1  \n",
       "3                   1       1  \n",
       "4                   1       1  \n",
       "...               ...     ...  \n",
       "200034              0       0  \n",
       "200035              0       1  \n",
       "200036              0       1  \n",
       "200037              1       0  \n",
       "200038              0       1  \n",
       "\n",
       "[200039 rows x 7 columns]"
      ]
     },
     "execution_count": 3,
     "metadata": {},
     "output_type": "execute_result"
    }
   ],
   "source": [
    "data_train = pd.merge(df1,df)\n",
    "miss = data_train[data_train['first_redeem_date'].isna()]\n",
    "miss['first_redeem_date']=miss['first_issue_date']\n",
    "data_train.first_redeem_date[miss.index]=miss.first_redeem_date.values\n",
    "data_train"
   ]
  },
  {
   "cell_type": "code",
   "execution_count": 4,
   "metadata": {},
   "outputs": [
    {
     "data": {
      "text/html": [
       "<div>\n",
       "<style scoped>\n",
       "    .dataframe tbody tr th:only-of-type {\n",
       "        vertical-align: middle;\n",
       "    }\n",
       "\n",
       "    .dataframe tbody tr th {\n",
       "        vertical-align: top;\n",
       "    }\n",
       "\n",
       "    .dataframe thead th {\n",
       "        text-align: right;\n",
       "    }\n",
       "</style>\n",
       "<table border=\"1\" class=\"dataframe\">\n",
       "  <thead>\n",
       "    <tr style=\"text-align: right;\">\n",
       "      <th></th>\n",
       "      <th>client_id</th>\n",
       "      <th>first_issue_date</th>\n",
       "      <th>first_redeem_date</th>\n",
       "      <th>age</th>\n",
       "      <th>gender</th>\n",
       "    </tr>\n",
       "  </thead>\n",
       "  <tbody>\n",
       "    <tr>\n",
       "      <th>0</th>\n",
       "      <td>000048b7a6</td>\n",
       "      <td>2018-12-15 13:33:11</td>\n",
       "      <td>2018-12-15 13:33:11</td>\n",
       "      <td>68</td>\n",
       "      <td>F</td>\n",
       "    </tr>\n",
       "    <tr>\n",
       "      <th>1</th>\n",
       "      <td>000073194a</td>\n",
       "      <td>2017-05-23 12:56:14</td>\n",
       "      <td>2017-11-24 11:18:01</td>\n",
       "      <td>60</td>\n",
       "      <td>F</td>\n",
       "    </tr>\n",
       "    <tr>\n",
       "      <th>2</th>\n",
       "      <td>00007c7133</td>\n",
       "      <td>2017-05-22 16:17:08</td>\n",
       "      <td>2018-12-31 17:17:33</td>\n",
       "      <td>67</td>\n",
       "      <td>U</td>\n",
       "    </tr>\n",
       "    <tr>\n",
       "      <th>3</th>\n",
       "      <td>00007f9014</td>\n",
       "      <td>2017-08-22 13:35:01</td>\n",
       "      <td>2019-02-15 19:19:18</td>\n",
       "      <td>45</td>\n",
       "      <td>F</td>\n",
       "    </tr>\n",
       "    <tr>\n",
       "      <th>4</th>\n",
       "      <td>0000a90cf7</td>\n",
       "      <td>2017-05-20 12:34:50</td>\n",
       "      <td>2017-07-08 12:48:22</td>\n",
       "      <td>45</td>\n",
       "      <td>U</td>\n",
       "    </tr>\n",
       "    <tr>\n",
       "      <th>...</th>\n",
       "      <td>...</td>\n",
       "      <td>...</td>\n",
       "      <td>...</td>\n",
       "      <td>...</td>\n",
       "      <td>...</td>\n",
       "    </tr>\n",
       "    <tr>\n",
       "      <th>200118</th>\n",
       "      <td>fffeacbe3e</td>\n",
       "      <td>2017-07-19 08:38:17</td>\n",
       "      <td>2017-10-13 10:59:14</td>\n",
       "      <td>47</td>\n",
       "      <td>F</td>\n",
       "    </tr>\n",
       "    <tr>\n",
       "      <th>200119</th>\n",
       "      <td>fffece623e</td>\n",
       "      <td>2018-05-13 15:09:30</td>\n",
       "      <td>2018-12-27 19:06:39</td>\n",
       "      <td>67</td>\n",
       "      <td>U</td>\n",
       "    </tr>\n",
       "    <tr>\n",
       "      <th>200120</th>\n",
       "      <td>ffff3dfff8</td>\n",
       "      <td>2018-11-01 16:06:52</td>\n",
       "      <td>2018-12-07 17:33:47</td>\n",
       "      <td>56</td>\n",
       "      <td>F</td>\n",
       "    </tr>\n",
       "    <tr>\n",
       "      <th>200121</th>\n",
       "      <td>ffffaab9da</td>\n",
       "      <td>2017-08-25 18:43:24</td>\n",
       "      <td>2017-12-08 17:53:19</td>\n",
       "      <td>23</td>\n",
       "      <td>F</td>\n",
       "    </tr>\n",
       "    <tr>\n",
       "      <th>200122</th>\n",
       "      <td>ffffeb5619</td>\n",
       "      <td>2017-12-05 13:26:28</td>\n",
       "      <td>2017-12-05 13:26:28</td>\n",
       "      <td>62</td>\n",
       "      <td>U</td>\n",
       "    </tr>\n",
       "  </tbody>\n",
       "</table>\n",
       "<p>200123 rows × 5 columns</p>\n",
       "</div>"
      ],
      "text/plain": [
       "         client_id     first_issue_date    first_redeem_date  age gender\n",
       "0       000048b7a6  2018-12-15 13:33:11  2018-12-15 13:33:11   68      F\n",
       "1       000073194a  2017-05-23 12:56:14  2017-11-24 11:18:01   60      F\n",
       "2       00007c7133  2017-05-22 16:17:08  2018-12-31 17:17:33   67      U\n",
       "3       00007f9014  2017-08-22 13:35:01  2019-02-15 19:19:18   45      F\n",
       "4       0000a90cf7  2017-05-20 12:34:50  2017-07-08 12:48:22   45      U\n",
       "...            ...                  ...                  ...  ...    ...\n",
       "200118  fffeacbe3e  2017-07-19 08:38:17  2017-10-13 10:59:14   47      F\n",
       "200119  fffece623e  2018-05-13 15:09:30  2018-12-27 19:06:39   67      U\n",
       "200120  ffff3dfff8  2018-11-01 16:06:52  2018-12-07 17:33:47   56      F\n",
       "200121  ffffaab9da  2017-08-25 18:43:24  2017-12-08 17:53:19   23      F\n",
       "200122  ffffeb5619  2017-12-05 13:26:28  2017-12-05 13:26:28   62      U\n",
       "\n",
       "[200123 rows x 5 columns]"
      ]
     },
     "execution_count": 4,
     "metadata": {},
     "output_type": "execute_result"
    }
   ],
   "source": [
    "data_test=pd.merge(df1,test)\n",
    "miss = data_test[data_test['first_redeem_date'].isna()]\n",
    "miss['first_redeem_date']=miss['first_issue_date']\n",
    "data_test.first_redeem_date[miss.index]=miss.first_redeem_date.values\n",
    "data_test"
   ]
  },
  {
   "cell_type": "code",
   "execution_count": 5,
   "metadata": {},
   "outputs": [],
   "source": [
    "data_train['first_issue_date']=pd.to_datetime(data_train['first_issue_date'])\n",
    "data_train['first_redeem_date']=pd.to_datetime(data_train['first_redeem_date'])\n",
    "data_test['first_issue_date']=pd.to_datetime(data_test['first_issue_date'])\n",
    "data_test['first_redeem_date']=pd.to_datetime(data_test['first_redeem_date'])"
   ]
  },
  {
   "cell_type": "code",
   "execution_count": 6,
   "metadata": {},
   "outputs": [
    {
     "name": "stdout",
     "output_type": "stream",
     "text": [
      "<class 'pandas.core.frame.DataFrame'>\n",
      "Int64Index: 200039 entries, 0 to 200038\n",
      "Data columns (total 7 columns):\n",
      "client_id            200039 non-null object\n",
      "first_issue_date     200039 non-null datetime64[ns]\n",
      "first_redeem_date    200039 non-null datetime64[ns]\n",
      "age                  200039 non-null int64\n",
      "gender               200039 non-null object\n",
      "treatment_flg        200039 non-null int64\n",
      "target               200039 non-null int64\n",
      "dtypes: datetime64[ns](2), int64(3), object(2)\n",
      "memory usage: 17.2+ MB\n"
     ]
    }
   ],
   "source": [
    "data_train.info()"
   ]
  },
  {
   "cell_type": "code",
   "execution_count": 7,
   "metadata": {},
   "outputs": [],
   "source": [
    "data_train['fake_age'] = data_train['age'].apply(lambda x:int((x>90)or(x<16)))\n",
    "data_test['fake_age'] = data_test['age'].apply(lambda x:int((x>90)or(x<16)))"
   ]
  },
  {
   "cell_type": "code",
   "execution_count": 8,
   "metadata": {},
   "outputs": [],
   "source": [
    "data_train['first_issue_date'] = data_train['first_issue_date'].apply(lambda x: x.timestamp())\n",
    "data_train['first_redeem_date'] = data_train['first_redeem_date'].apply(lambda x: x.timestamp())\n",
    "data_test['first_issue_date'] = data_test['first_issue_date'].apply(lambda x: x.timestamp())\n",
    "data_test['first_redeem_date'] = data_test['first_redeem_date'].apply(lambda x: x.timestamp())"
   ]
  },
  {
   "cell_type": "code",
   "execution_count": 9,
   "metadata": {},
   "outputs": [],
   "source": [
    "purch = pd.read_csv('data/purchases.csv',parse_dates=['transaction_datetime'])"
   ]
  },
  {
   "cell_type": "code",
   "execution_count": 10,
   "metadata": {},
   "outputs": [],
   "source": [
    "user_id = purch.drop_duplicates('client_id').client_id.values"
   ]
  },
  {
   "cell_type": "code",
   "execution_count": 11,
   "metadata": {},
   "outputs": [],
   "source": [
    "transactions = purch.drop_duplicates('transaction_id')"
   ]
  },
  {
   "cell_type": "code",
   "execution_count": 12,
   "metadata": {},
   "outputs": [],
   "source": [
    "transactions['transaction_datetime'] = transactions['transaction_datetime'].apply(lambda x: x.timestamp())"
   ]
  },
  {
   "cell_type": "code",
   "execution_count": 13,
   "metadata": {},
   "outputs": [],
   "source": [
    "#число покупок\n",
    "a = transactions[['client_id','transaction_id']].values\n",
    "pok=[]\n",
    "user=''\n",
    "count=0\n",
    "for row in a:\n",
    "    if row[0]!=user:\n",
    "        pok.append(count)\n",
    "        user =row[0]\n",
    "        count=1\n",
    "    else:\n",
    "        count+=1\n",
    "pokupki = pok[1:]\n",
    "pokupki.append(count)"
   ]
  },
  {
   "cell_type": "code",
   "execution_count": 14,
   "metadata": {},
   "outputs": [],
   "source": [
    "#даты последних покупок\n",
    "dates = purch.drop_duplicates('client_id',keep='last').transaction_datetime.values"
   ]
  },
  {
   "cell_type": "code",
   "execution_count": 15,
   "metadata": {},
   "outputs": [],
   "source": [
    "#число магазинов\n",
    "b = transactions[['client_id','store_id']].values\n",
    "store=[]\n",
    "user=''\n",
    "count=0\n",
    "for row in b:\n",
    "    if row[0]!=user:\n",
    "        store.append(count)\n",
    "        user =row[0]\n",
    "        count=1\n",
    "        last_store = row[1]\n",
    "    else:\n",
    "        if row[1]!=last_store:\n",
    "            count+=1\n",
    "            last_store = row[1]\n",
    "stores = store[1:]\n",
    "stores.append(count)"
   ]
  },
  {
   "cell_type": "code",
   "execution_count": 16,
   "metadata": {},
   "outputs": [],
   "source": [
    "#cредняя сумма покупки\n",
    "c = transactions[['client_id','purchase_sum']].values\n",
    "avsum=[]\n",
    "user=''\n",
    "count=1\n",
    "sred=0\n",
    "for row in c:\n",
    "    if row[0]!=user:\n",
    "        avsum.append(sred/count)\n",
    "        user =row[0]\n",
    "        count=1\n",
    "        sred=row[1]\n",
    "    else:\n",
    "        count+=1\n",
    "        sred+=row[1]\n",
    "average = avsum[1:]\n",
    "average.append(sred/count)"
   ]
  },
  {
   "cell_type": "code",
   "execution_count": 17,
   "metadata": {},
   "outputs": [],
   "source": [
    "produkti = purch.product_id.values\n",
    "useri = purch.client_id.values"
   ]
  },
  {
   "cell_type": "code",
   "execution_count": 18,
   "metadata": {},
   "outputs": [],
   "source": [
    "alcohol = set(df2[df2['is_alcohol']==1].product_id.values)\n",
    "owner = set(df2[df2['is_own_trademark']==1].product_id.values)"
   ]
  },
  {
   "cell_type": "code",
   "execution_count": 19,
   "metadata": {},
   "outputs": [],
   "source": [
    "alc = lambda x: int(x in alcohol)\n",
    "is_alc = [alc(i) for i in produkti]\n",
    "own = lambda x: int(x in owner)\n",
    "is_own = [own(i) for i in produkti]"
   ]
  },
  {
   "cell_type": "code",
   "execution_count": 20,
   "metadata": {},
   "outputs": [],
   "source": [
    "purch['product_is_alco']=is_alc\n",
    "purch['product_is_own']=is_own"
   ]
  },
  {
   "cell_type": "code",
   "execution_count": 21,
   "metadata": {},
   "outputs": [],
   "source": [
    "#число купленного алкоголя и собственной торговой марки\n",
    "a = transactions[['client_id','transaction_id']].values\n",
    "alc_count=[]\n",
    "own_count=[]\n",
    "user=''\n",
    "count_alc=0\n",
    "count_own=0\n",
    "for i in range(len(useri)):\n",
    "    if useri[i]!=user:\n",
    "        alc_count.append(count_alc)\n",
    "        own_count.append(count_own)\n",
    "        user =useri[i]\n",
    "        count_alc=is_alc[i]\n",
    "        count_own=is_own[i]\n",
    "    else:\n",
    "        count_alc+=is_alc[i]\n",
    "        count_own+=is_own[i]\n",
    "alc_count = alc_count[1:]\n",
    "own_count = own_count[1:]\n",
    "alc_count.append(count_alc)\n",
    "own_count.append(count_own)"
   ]
  },
  {
   "cell_type": "code",
   "execution_count": 22,
   "metadata": {},
   "outputs": [],
   "source": [
    "new_features = pd.DataFrame({'client_id':user_id,'transaction_count':pokupki,'av_sum':average,\n",
    "                             'last_transaction':dates,'store_count':stores,\n",
    "                             'alc_count':alc_count,'own_count':own_count})"
   ]
  },
  {
   "cell_type": "code",
   "execution_count": 23,
   "metadata": {},
   "outputs": [],
   "source": [
    "new_features['last_transaction'] = new_features['last_transaction'].apply(lambda x: x.timestamp())"
   ]
  },
  {
   "cell_type": "code",
   "execution_count": 24,
   "metadata": {},
   "outputs": [],
   "source": [
    "data_train_full = pd.merge(data_train,new_features)\n",
    "data_test_full = pd.merge(data_test,new_features)"
   ]
  },
  {
   "cell_type": "code",
   "execution_count": 25,
   "metadata": {},
   "outputs": [],
   "source": [
    "data_train_full.index=data_train_full['client_id']\n",
    "del data_train_full['client_id']"
   ]
  },
  {
   "cell_type": "code",
   "execution_count": 26,
   "metadata": {},
   "outputs": [],
   "source": [
    "data_test_full.index=data_test_full['client_id']\n",
    "del data_test_full['client_id']"
   ]
  },
  {
   "cell_type": "code",
   "execution_count": 27,
   "metadata": {},
   "outputs": [],
   "source": [
    "X = data_train_full.drop(['target'],axis='columns')"
   ]
  },
  {
   "cell_type": "code",
   "execution_count": 28,
   "metadata": {},
   "outputs": [
    {
     "data": {
      "text/plain": [
       "Index(['first_issue_date', 'first_redeem_date', 'age', 'gender',\n",
       "       'treatment_flg', 'fake_age', 'transaction_count', 'av_sum',\n",
       "       'last_transaction', 'store_count', 'alc_count', 'own_count'],\n",
       "      dtype='object')"
      ]
     },
     "execution_count": 28,
     "metadata": {},
     "output_type": "execute_result"
    }
   ],
   "source": [
    "X.columns"
   ]
  },
  {
   "cell_type": "code",
   "execution_count": 29,
   "metadata": {},
   "outputs": [],
   "source": [
    "Cat_cols = ['gender','fake_age']\n",
    "Num_cols = ['first_issue_date', 'first_redeem_date', 'age','transaction_count', 'av_sum',\n",
    "       'last_transaction', 'store_count', 'alc_count', 'own_count']"
   ]
  },
  {
   "cell_type": "code",
   "execution_count": 30,
   "metadata": {},
   "outputs": [],
   "source": [
    "enc = OneHotEncoder(sparse=False)\n",
    "scaler = StandardScaler()"
   ]
  },
  {
   "cell_type": "code",
   "execution_count": 31,
   "metadata": {},
   "outputs": [],
   "source": [
    "X_cat_encoded = pd.DataFrame(enc.fit_transform(X[Cat_cols]))"
   ]
  },
  {
   "cell_type": "code",
   "execution_count": 32,
   "metadata": {},
   "outputs": [],
   "source": [
    "X_num_scaled = pd.DataFrame(scaler.fit_transform(X[Num_cols]),columns=Num_cols)"
   ]
  },
  {
   "cell_type": "code",
   "execution_count": 33,
   "metadata": {},
   "outputs": [],
   "source": [
    "Test_cat = pd.DataFrame(enc.fit_transform(data_test_full[Cat_cols]))"
   ]
  },
  {
   "cell_type": "code",
   "execution_count": 34,
   "metadata": {},
   "outputs": [],
   "source": [
    "Test_num =  pd.DataFrame(scaler.fit_transform(data_test_full[Num_cols]),columns=Num_cols)"
   ]
  },
  {
   "cell_type": "code",
   "execution_count": 55,
   "metadata": {},
   "outputs": [],
   "source": [
    "test = pd.concat([Test_cat,Test_num],axis=1)"
   ]
  },
  {
   "cell_type": "code",
   "execution_count": 36,
   "metadata": {},
   "outputs": [],
   "source": [
    "train =pd.concat([X_cat_encoded,X_num_scaled,data_train['treatment_flg']],axis=1)"
   ]
  },
  {
   "cell_type": "code",
   "execution_count": 41,
   "metadata": {},
   "outputs": [],
   "source": [
    "train_full = pd.concat([X_cat_encoded,X_num_scaled,data_train[['treatment_flg','target']]],axis=1)"
   ]
  },
  {
   "cell_type": "code",
   "execution_count": 63,
   "metadata": {},
   "outputs": [
    {
     "data": {
      "text/html": [
       "<div>\n",
       "<style scoped>\n",
       "    .dataframe tbody tr th:only-of-type {\n",
       "        vertical-align: middle;\n",
       "    }\n",
       "\n",
       "    .dataframe tbody tr th {\n",
       "        vertical-align: top;\n",
       "    }\n",
       "\n",
       "    .dataframe thead th {\n",
       "        text-align: right;\n",
       "    }\n",
       "</style>\n",
       "<table border=\"1\" class=\"dataframe\">\n",
       "  <thead>\n",
       "    <tr style=\"text-align: right;\">\n",
       "      <th></th>\n",
       "      <th>first_issue_date</th>\n",
       "      <th>first_redeem_date</th>\n",
       "      <th>age</th>\n",
       "      <th>gender</th>\n",
       "      <th>treatment_flg</th>\n",
       "      <th>target</th>\n",
       "      <th>fake_age</th>\n",
       "      <th>transaction_count</th>\n",
       "      <th>av_sum</th>\n",
       "      <th>last_transaction</th>\n",
       "      <th>store_count</th>\n",
       "      <th>alc_count</th>\n",
       "      <th>own_count</th>\n",
       "      <th>new_target</th>\n",
       "    </tr>\n",
       "    <tr>\n",
       "      <th>client_id</th>\n",
       "      <th></th>\n",
       "      <th></th>\n",
       "      <th></th>\n",
       "      <th></th>\n",
       "      <th></th>\n",
       "      <th></th>\n",
       "      <th></th>\n",
       "      <th></th>\n",
       "      <th></th>\n",
       "      <th></th>\n",
       "      <th></th>\n",
       "      <th></th>\n",
       "      <th></th>\n",
       "      <th></th>\n",
       "    </tr>\n",
       "  </thead>\n",
       "  <tbody>\n",
       "    <tr>\n",
       "      <th>000012768d</th>\n",
       "      <td>1.501948e+09</td>\n",
       "      <td>1.515094e+09</td>\n",
       "      <td>45</td>\n",
       "      <td>U</td>\n",
       "      <td>0</td>\n",
       "      <td>1</td>\n",
       "      <td>0</td>\n",
       "      <td>4</td>\n",
       "      <td>700.750000</td>\n",
       "      <td>1.552576e+09</td>\n",
       "      <td>3</td>\n",
       "      <td>0</td>\n",
       "      <td>4</td>\n",
       "      <td>0</td>\n",
       "    </tr>\n",
       "    <tr>\n",
       "      <th>000036f903</th>\n",
       "      <td>1.491832e+09</td>\n",
       "      <td>1.492951e+09</td>\n",
       "      <td>72</td>\n",
       "      <td>F</td>\n",
       "      <td>1</td>\n",
       "      <td>1</td>\n",
       "      <td>0</td>\n",
       "      <td>32</td>\n",
       "      <td>306.406250</td>\n",
       "      <td>1.552819e+09</td>\n",
       "      <td>14</td>\n",
       "      <td>1</td>\n",
       "      <td>14</td>\n",
       "      <td>1</td>\n",
       "    </tr>\n",
       "    <tr>\n",
       "      <th>00010925a5</th>\n",
       "      <td>1.532449e+09</td>\n",
       "      <td>1.536942e+09</td>\n",
       "      <td>83</td>\n",
       "      <td>U</td>\n",
       "      <td>1</td>\n",
       "      <td>1</td>\n",
       "      <td>0</td>\n",
       "      <td>18</td>\n",
       "      <td>326.833333</td>\n",
       "      <td>1.552029e+09</td>\n",
       "      <td>8</td>\n",
       "      <td>1</td>\n",
       "      <td>9</td>\n",
       "      <td>1</td>\n",
       "    </tr>\n",
       "    <tr>\n",
       "      <th>0001f552b0</th>\n",
       "      <td>1.498850e+09</td>\n",
       "      <td>1.535461e+09</td>\n",
       "      <td>33</td>\n",
       "      <td>F</td>\n",
       "      <td>1</td>\n",
       "      <td>1</td>\n",
       "      <td>0</td>\n",
       "      <td>15</td>\n",
       "      <td>410.345333</td>\n",
       "      <td>1.552734e+09</td>\n",
       "      <td>7</td>\n",
       "      <td>0</td>\n",
       "      <td>10</td>\n",
       "      <td>1</td>\n",
       "    </tr>\n",
       "    <tr>\n",
       "      <th>00020e7b18</th>\n",
       "      <td>1.511783e+09</td>\n",
       "      <td>1.515607e+09</td>\n",
       "      <td>73</td>\n",
       "      <td>U</td>\n",
       "      <td>1</td>\n",
       "      <td>1</td>\n",
       "      <td>0</td>\n",
       "      <td>18</td>\n",
       "      <td>1434.422778</td>\n",
       "      <td>1.552651e+09</td>\n",
       "      <td>7</td>\n",
       "      <td>0</td>\n",
       "      <td>44</td>\n",
       "      <td>1</td>\n",
       "    </tr>\n",
       "    <tr>\n",
       "      <th>...</th>\n",
       "      <td>...</td>\n",
       "      <td>...</td>\n",
       "      <td>...</td>\n",
       "      <td>...</td>\n",
       "      <td>...</td>\n",
       "      <td>...</td>\n",
       "      <td>...</td>\n",
       "      <td>...</td>\n",
       "      <td>...</td>\n",
       "      <td>...</td>\n",
       "      <td>...</td>\n",
       "      <td>...</td>\n",
       "      <td>...</td>\n",
       "      <td>...</td>\n",
       "    </tr>\n",
       "    <tr>\n",
       "      <th>fffe0abb97</th>\n",
       "      <td>1.511773e+09</td>\n",
       "      <td>1.518341e+09</td>\n",
       "      <td>35</td>\n",
       "      <td>F</td>\n",
       "      <td>0</td>\n",
       "      <td>0</td>\n",
       "      <td>0</td>\n",
       "      <td>9</td>\n",
       "      <td>301.824444</td>\n",
       "      <td>1.552632e+09</td>\n",
       "      <td>5</td>\n",
       "      <td>0</td>\n",
       "      <td>3</td>\n",
       "      <td>1</td>\n",
       "    </tr>\n",
       "    <tr>\n",
       "      <th>fffe0ed719</th>\n",
       "      <td>1.505466e+09</td>\n",
       "      <td>1.513090e+09</td>\n",
       "      <td>69</td>\n",
       "      <td>U</td>\n",
       "      <td>0</td>\n",
       "      <td>1</td>\n",
       "      <td>0</td>\n",
       "      <td>30</td>\n",
       "      <td>347.249333</td>\n",
       "      <td>1.552919e+09</td>\n",
       "      <td>2</td>\n",
       "      <td>0</td>\n",
       "      <td>29</td>\n",
       "      <td>0</td>\n",
       "    </tr>\n",
       "    <tr>\n",
       "      <th>fffea1204c</th>\n",
       "      <td>1.517418e+09</td>\n",
       "      <td>1.520874e+09</td>\n",
       "      <td>73</td>\n",
       "      <td>F</td>\n",
       "      <td>0</td>\n",
       "      <td>1</td>\n",
       "      <td>0</td>\n",
       "      <td>17</td>\n",
       "      <td>252.771765</td>\n",
       "      <td>1.552478e+09</td>\n",
       "      <td>1</td>\n",
       "      <td>0</td>\n",
       "      <td>0</td>\n",
       "      <td>0</td>\n",
       "    </tr>\n",
       "    <tr>\n",
       "      <th>fffeca6d22</th>\n",
       "      <td>1.514462e+09</td>\n",
       "      <td>1.514462e+09</td>\n",
       "      <td>77</td>\n",
       "      <td>F</td>\n",
       "      <td>1</td>\n",
       "      <td>0</td>\n",
       "      <td>0</td>\n",
       "      <td>16</td>\n",
       "      <td>177.053750</td>\n",
       "      <td>1.552661e+09</td>\n",
       "      <td>2</td>\n",
       "      <td>0</td>\n",
       "      <td>1</td>\n",
       "      <td>0</td>\n",
       "    </tr>\n",
       "    <tr>\n",
       "      <th>fffff6ce77</th>\n",
       "      <td>1.501792e+09</td>\n",
       "      <td>1.503766e+09</td>\n",
       "      <td>42</td>\n",
       "      <td>U</td>\n",
       "      <td>0</td>\n",
       "      <td>1</td>\n",
       "      <td>0</td>\n",
       "      <td>32</td>\n",
       "      <td>580.018438</td>\n",
       "      <td>1.552672e+09</td>\n",
       "      <td>10</td>\n",
       "      <td>14</td>\n",
       "      <td>43</td>\n",
       "      <td>0</td>\n",
       "    </tr>\n",
       "  </tbody>\n",
       "</table>\n",
       "<p>200039 rows × 14 columns</p>\n",
       "</div>"
      ],
      "text/plain": [
       "            first_issue_date  first_redeem_date  age gender  treatment_flg  \\\n",
       "client_id                                                                    \n",
       "000012768d      1.501948e+09       1.515094e+09   45      U              0   \n",
       "000036f903      1.491832e+09       1.492951e+09   72      F              1   \n",
       "00010925a5      1.532449e+09       1.536942e+09   83      U              1   \n",
       "0001f552b0      1.498850e+09       1.535461e+09   33      F              1   \n",
       "00020e7b18      1.511783e+09       1.515607e+09   73      U              1   \n",
       "...                      ...                ...  ...    ...            ...   \n",
       "fffe0abb97      1.511773e+09       1.518341e+09   35      F              0   \n",
       "fffe0ed719      1.505466e+09       1.513090e+09   69      U              0   \n",
       "fffea1204c      1.517418e+09       1.520874e+09   73      F              0   \n",
       "fffeca6d22      1.514462e+09       1.514462e+09   77      F              1   \n",
       "fffff6ce77      1.501792e+09       1.503766e+09   42      U              0   \n",
       "\n",
       "            target  fake_age  transaction_count       av_sum  \\\n",
       "client_id                                                      \n",
       "000012768d       1         0                  4   700.750000   \n",
       "000036f903       1         0                 32   306.406250   \n",
       "00010925a5       1         0                 18   326.833333   \n",
       "0001f552b0       1         0                 15   410.345333   \n",
       "00020e7b18       1         0                 18  1434.422778   \n",
       "...            ...       ...                ...          ...   \n",
       "fffe0abb97       0         0                  9   301.824444   \n",
       "fffe0ed719       1         0                 30   347.249333   \n",
       "fffea1204c       1         0                 17   252.771765   \n",
       "fffeca6d22       0         0                 16   177.053750   \n",
       "fffff6ce77       1         0                 32   580.018438   \n",
       "\n",
       "            last_transaction  store_count  alc_count  own_count  new_target  \n",
       "client_id                                                                    \n",
       "000012768d      1.552576e+09            3          0          4           0  \n",
       "000036f903      1.552819e+09           14          1         14           1  \n",
       "00010925a5      1.552029e+09            8          1          9           1  \n",
       "0001f552b0      1.552734e+09            7          0         10           1  \n",
       "00020e7b18      1.552651e+09            7          0         44           1  \n",
       "...                      ...          ...        ...        ...         ...  \n",
       "fffe0abb97      1.552632e+09            5          0          3           1  \n",
       "fffe0ed719      1.552919e+09            2          0         29           0  \n",
       "fffea1204c      1.552478e+09            1          0          0           0  \n",
       "fffeca6d22      1.552661e+09            2          0          1           0  \n",
       "fffff6ce77      1.552672e+09           10         14         43           0  \n",
       "\n",
       "[200039 rows x 14 columns]"
      ]
     },
     "execution_count": 63,
     "metadata": {},
     "output_type": "execute_result"
    }
   ],
   "source": [
    "data_train_full"
   ]
  },
  {
   "cell_type": "code",
   "execution_count": 37,
   "metadata": {},
   "outputs": [],
   "source": [
    "cat_params = {'learning_rate':0.01, 'max_depth':3, 'task_type':'CPU',\n",
    "              'loss_function':'Logloss', 'eval_metric':'Logloss',\n",
    "               'iterations':20000, 'od_type': \"Iter\", 'od_wait':200\n",
    "}"
   ]
  },
  {
   "cell_type": "code",
   "execution_count": 44,
   "metadata": {},
   "outputs": [],
   "source": [
    "def uplift_at_k(y_true, uplift, treatment, k=0.3):\n",
    "    order = np.argsort(-uplift)\n",
    "    treatment_n = int((treatment == 1).sum() * k)\n",
    "    treatment_p = y_true[order][treatment[order] == 1][:treatment_n].mean()\n",
    "    control_n = int((treatment == 0).sum() * k)\n",
    "    control_p = y_true[order][treatment[order] == 0][:control_n].mean()\n",
    "    score_at_k = treatment_p - control_p\n",
    "    \n",
    "    return score_at_k"
   ]
  },
  {
   "cell_type": "code",
   "execution_count": 46,
   "metadata": {},
   "outputs": [],
   "source": [
    "def trans_train_model(df_X, df_X_test, num_folds=5, random_state=0, verbose=2):\n",
    "\n",
    "    cat_params['random_state'] = random_state\n",
    "    \n",
    "    df_X['new_target'] = (df_X['target'] + df_X['treatment_flg'] + 1) % 2\n",
    "    df_y = df_X[['new_target']]\n",
    "    treatment = df_X['treatment_flg'].to_numpy()\n",
    "    old_target = df_X['target'].to_numpy()\n",
    "    df_X = df_X.drop(['target', 'new_target', 'treatment_flg'], axis=1, errors='ignore')    \n",
    "    \n",
    "    X = df_X.to_numpy()\n",
    "    y = df_y.to_numpy()\n",
    "    X_test = df_X_test.to_numpy()\n",
    "    \n",
    "    folds = StratifiedKFold(n_splits=num_folds, shuffle=True, random_state=random_state)\n",
    "    scores = []\n",
    "    uplift_scores = []    \n",
    "    prediction = np.zeros(len(X_test))\n",
    "\n",
    "    for i, (train_index, valid_index) in enumerate(folds.split(X, y)):    \n",
    "        X_train, X_valid = X[train_index], X[valid_index]\n",
    "        y_train, y_valid = y[train_index], y[valid_index]        \n",
    "        treat_valid = treatment[valid_index]\n",
    "        old_target_vaild = old_target[valid_index]\n",
    "        \n",
    "        f = CatBoostClassifier(**cat_params)\n",
    "        f.fit(X_train, y_train, eval_set=(X_valid, y_valid), use_best_model=True, verbose=False)\n",
    "        \n",
    "    \n",
    "        y_pred_valid = f.predict_proba(X_valid)[:, 1]\n",
    "        score = log_loss(y_valid, y_pred_valid)\n",
    "        uplift_score = uplift_at_k(old_target_vaild, y_pred_valid, treat_valid)\n",
    "        uplift_scores.append(uplift_score)\n",
    "        if (verbose > 1):\n",
    "            print('OOF Uplift score: {0:.5f}'.format(uplift_score))\n",
    "        \n",
    "        scores.append(score)\n",
    "        # predict on test and accumulate the result\n",
    "        y_pred = f.predict_proba(X_test)[:, 1]\n",
    "        prediction += y_pred\n",
    "\n",
    "    # get average prediction from all models\n",
    "    prediction /= num_folds\n",
    "\n",
    "    if (verbose > 0):\n",
    "        print('CV mean score: {0:.5f}, std: {1:.5f}'.format(np.mean(scores), np.std(scores)))    \n",
    "        print('Uplift score @30%: {0:.5f}, std: {1:.5f}'.format(np.mean(uplift_scores), np.std(uplift_scores)))    \n",
    "        \n",
    "    return prediction"
   ]
  },
  {
   "cell_type": "code",
   "execution_count": 56,
   "metadata": {},
   "outputs": [
    {
     "name": "stdout",
     "output_type": "stream",
     "text": [
      "OOF Uplift score: 0.08533\n",
      "OOF Uplift score: 0.08037\n",
      "OOF Uplift score: 0.07851\n",
      "OOF Uplift score: 0.07751\n",
      "OOF Uplift score: 0.07385\n",
      "CV mean score: 0.68862, std: 0.00018\n",
      "Uplift score @30%: 0.07911, std: 0.00376\n"
     ]
    }
   ],
   "source": [
    "pred = trans_train_model(train_full, test, verbose=2)"
   ]
  },
  {
   "cell_type": "code",
   "execution_count": 62,
   "metadata": {},
   "outputs": [
    {
     "ename": "CatBoostError",
     "evalue": "Bad value for num_feature[non_default_doc_idx=0,feature_idx=3]=\"U\": Cannot convert 'b'U'' to float",
     "output_type": "error",
     "traceback": [
      "\u001b[0;31m---------------------------------------------------------------------------\u001b[0m",
      "\u001b[0;31mTypeError\u001b[0m                                 Traceback (most recent call last)",
      "\u001b[0;32m_catboost.pyx\u001b[0m in \u001b[0;36m_catboost.get_float_feature\u001b[0;34m()\u001b[0m\n",
      "\u001b[0;32m_catboost.pyx\u001b[0m in \u001b[0;36m_catboost._FloatOrNan\u001b[0;34m()\u001b[0m\n",
      "\u001b[0;32m_catboost.pyx\u001b[0m in \u001b[0;36m_catboost._FloatOrNanFromString\u001b[0;34m()\u001b[0m\n",
      "\u001b[0;31mTypeError\u001b[0m: Cannot convert 'b'U'' to float",
      "\nDuring handling of the above exception, another exception occurred:\n",
      "\u001b[0;31mCatBoostError\u001b[0m                             Traceback (most recent call last)",
      "\u001b[0;32m<ipython-input-62-fb487bc0d730>\u001b[0m in \u001b[0;36m<module>\u001b[0;34m\u001b[0m\n\u001b[0;32m----> 1\u001b[0;31m \u001b[0mpred\u001b[0m \u001b[0;34m=\u001b[0m \u001b[0mtrans_train_model\u001b[0m\u001b[0;34m(\u001b[0m\u001b[0mdata_train_full\u001b[0m\u001b[0;34m,\u001b[0m\u001b[0mdata_test_full\u001b[0m\u001b[0;34m,\u001b[0m \u001b[0mverbose\u001b[0m\u001b[0;34m=\u001b[0m\u001b[0;36m2\u001b[0m\u001b[0;34m)\u001b[0m\u001b[0;34m\u001b[0m\u001b[0;34m\u001b[0m\u001b[0m\n\u001b[0m",
      "\u001b[0;32m<ipython-input-46-bb6460146fe0>\u001b[0m in \u001b[0;36mtrans_train_model\u001b[0;34m(df_X, df_X_test, num_folds, random_state, verbose)\u001b[0m\n\u001b[1;32m     25\u001b[0m \u001b[0;34m\u001b[0m\u001b[0m\n\u001b[1;32m     26\u001b[0m         \u001b[0mf\u001b[0m \u001b[0;34m=\u001b[0m \u001b[0mCatBoostClassifier\u001b[0m\u001b[0;34m(\u001b[0m\u001b[0;34m**\u001b[0m\u001b[0mcat_params\u001b[0m\u001b[0;34m)\u001b[0m\u001b[0;34m\u001b[0m\u001b[0;34m\u001b[0m\u001b[0m\n\u001b[0;32m---> 27\u001b[0;31m         \u001b[0mf\u001b[0m\u001b[0;34m.\u001b[0m\u001b[0mfit\u001b[0m\u001b[0;34m(\u001b[0m\u001b[0mX_train\u001b[0m\u001b[0;34m,\u001b[0m \u001b[0my_train\u001b[0m\u001b[0;34m,\u001b[0m \u001b[0meval_set\u001b[0m\u001b[0;34m=\u001b[0m\u001b[0;34m(\u001b[0m\u001b[0mX_valid\u001b[0m\u001b[0;34m,\u001b[0m \u001b[0my_valid\u001b[0m\u001b[0;34m)\u001b[0m\u001b[0;34m,\u001b[0m \u001b[0muse_best_model\u001b[0m\u001b[0;34m=\u001b[0m\u001b[0;32mTrue\u001b[0m\u001b[0;34m,\u001b[0m \u001b[0mverbose\u001b[0m\u001b[0;34m=\u001b[0m\u001b[0;32mFalse\u001b[0m\u001b[0;34m)\u001b[0m\u001b[0;34m\u001b[0m\u001b[0;34m\u001b[0m\u001b[0m\n\u001b[0m\u001b[1;32m     28\u001b[0m \u001b[0;34m\u001b[0m\u001b[0m\n\u001b[1;32m     29\u001b[0m \u001b[0;34m\u001b[0m\u001b[0m\n",
      "\u001b[0;32m~/anaconda3/envs/ptn35env/lib/python3.6/site-packages/catboost/core.py\u001b[0m in \u001b[0;36mfit\u001b[0;34m(self, X, y, cat_features, text_features, sample_weight, baseline, use_best_model, eval_set, verbose, logging_level, plot, column_description, verbose_eval, metric_period, silent, early_stopping_rounds, save_snapshot, snapshot_file, snapshot_interval, init_model)\u001b[0m\n\u001b[1;32m   3842\u001b[0m         self._fit(X, y, cat_features, text_features, None, sample_weight, None, None, None, None, baseline, use_best_model,\n\u001b[1;32m   3843\u001b[0m                   \u001b[0meval_set\u001b[0m\u001b[0;34m,\u001b[0m \u001b[0mverbose\u001b[0m\u001b[0;34m,\u001b[0m \u001b[0mlogging_level\u001b[0m\u001b[0;34m,\u001b[0m \u001b[0mplot\u001b[0m\u001b[0;34m,\u001b[0m \u001b[0mcolumn_description\u001b[0m\u001b[0;34m,\u001b[0m \u001b[0mverbose_eval\u001b[0m\u001b[0;34m,\u001b[0m \u001b[0mmetric_period\u001b[0m\u001b[0;34m,\u001b[0m\u001b[0;34m\u001b[0m\u001b[0;34m\u001b[0m\u001b[0m\n\u001b[0;32m-> 3844\u001b[0;31m                   silent, early_stopping_rounds, save_snapshot, snapshot_file, snapshot_interval, init_model)\n\u001b[0m\u001b[1;32m   3845\u001b[0m         \u001b[0;32mreturn\u001b[0m \u001b[0mself\u001b[0m\u001b[0;34m\u001b[0m\u001b[0;34m\u001b[0m\u001b[0m\n\u001b[1;32m   3846\u001b[0m \u001b[0;34m\u001b[0m\u001b[0m\n",
      "\u001b[0;32m~/anaconda3/envs/ptn35env/lib/python3.6/site-packages/catboost/core.py\u001b[0m in \u001b[0;36m_fit\u001b[0;34m(self, X, y, cat_features, text_features, pairs, sample_weight, group_id, group_weight, subgroup_id, pairs_weight, baseline, use_best_model, eval_set, verbose, logging_level, plot, column_description, verbose_eval, metric_period, silent, early_stopping_rounds, save_snapshot, snapshot_file, snapshot_interval, init_model)\u001b[0m\n\u001b[1;32m   1712\u001b[0m             \u001b[0muse_best_model\u001b[0m\u001b[0;34m,\u001b[0m \u001b[0meval_set\u001b[0m\u001b[0;34m,\u001b[0m \u001b[0mverbose\u001b[0m\u001b[0;34m,\u001b[0m \u001b[0mlogging_level\u001b[0m\u001b[0;34m,\u001b[0m \u001b[0mplot\u001b[0m\u001b[0;34m,\u001b[0m\u001b[0;34m\u001b[0m\u001b[0;34m\u001b[0m\u001b[0m\n\u001b[1;32m   1713\u001b[0m             \u001b[0mcolumn_description\u001b[0m\u001b[0;34m,\u001b[0m \u001b[0mverbose_eval\u001b[0m\u001b[0;34m,\u001b[0m \u001b[0mmetric_period\u001b[0m\u001b[0;34m,\u001b[0m \u001b[0msilent\u001b[0m\u001b[0;34m,\u001b[0m \u001b[0mearly_stopping_rounds\u001b[0m\u001b[0;34m,\u001b[0m\u001b[0;34m\u001b[0m\u001b[0;34m\u001b[0m\u001b[0m\n\u001b[0;32m-> 1714\u001b[0;31m             \u001b[0msave_snapshot\u001b[0m\u001b[0;34m,\u001b[0m \u001b[0msnapshot_file\u001b[0m\u001b[0;34m,\u001b[0m \u001b[0msnapshot_interval\u001b[0m\u001b[0;34m,\u001b[0m \u001b[0minit_model\u001b[0m\u001b[0;34m\u001b[0m\u001b[0;34m\u001b[0m\u001b[0m\n\u001b[0m\u001b[1;32m   1715\u001b[0m         )\n\u001b[1;32m   1716\u001b[0m         \u001b[0mparams\u001b[0m \u001b[0;34m=\u001b[0m \u001b[0mtrain_params\u001b[0m\u001b[0;34m[\u001b[0m\u001b[0;34m\"params\"\u001b[0m\u001b[0;34m]\u001b[0m\u001b[0;34m\u001b[0m\u001b[0;34m\u001b[0m\u001b[0m\n",
      "\u001b[0;32m~/anaconda3/envs/ptn35env/lib/python3.6/site-packages/catboost/core.py\u001b[0m in \u001b[0;36m_prepare_train_params\u001b[0;34m(self, X, y, cat_features, text_features, pairs, sample_weight, group_id, group_weight, subgroup_id, pairs_weight, baseline, use_best_model, eval_set, verbose, logging_level, plot, column_description, verbose_eval, metric_period, silent, early_stopping_rounds, save_snapshot, snapshot_file, snapshot_interval, init_model)\u001b[0m\n\u001b[1;32m   1600\u001b[0m \u001b[0;34m\u001b[0m\u001b[0m\n\u001b[1;32m   1601\u001b[0m         train_pool = _build_train_pool(X, y, cat_features, text_features, pairs, sample_weight, group_id,\n\u001b[0;32m-> 1602\u001b[0;31m                                        group_weight, subgroup_id, pairs_weight, baseline, column_description)\n\u001b[0m\u001b[1;32m   1603\u001b[0m         \u001b[0;32mif\u001b[0m \u001b[0mtrain_pool\u001b[0m\u001b[0;34m.\u001b[0m\u001b[0mis_empty_\u001b[0m\u001b[0;34m:\u001b[0m\u001b[0;34m\u001b[0m\u001b[0;34m\u001b[0m\u001b[0m\n\u001b[1;32m   1604\u001b[0m             \u001b[0;32mraise\u001b[0m \u001b[0mCatBoostError\u001b[0m\u001b[0;34m(\u001b[0m\u001b[0;34m\"X is empty.\"\u001b[0m\u001b[0;34m)\u001b[0m\u001b[0;34m\u001b[0m\u001b[0;34m\u001b[0m\u001b[0m\n",
      "\u001b[0;32m~/anaconda3/envs/ptn35env/lib/python3.6/site-packages/catboost/core.py\u001b[0m in \u001b[0;36m_build_train_pool\u001b[0;34m(X, y, cat_features, text_features, pairs, sample_weight, group_id, group_weight, subgroup_id, pairs_weight, baseline, column_description)\u001b[0m\n\u001b[1;32m   1001\u001b[0m             \u001b[0;32mraise\u001b[0m \u001b[0mCatBoostError\u001b[0m\u001b[0;34m(\u001b[0m\u001b[0;34m\"y has not initialized in fit(): X is not catboost.Pool object, y must be not None in fit().\"\u001b[0m\u001b[0;34m)\u001b[0m\u001b[0;34m\u001b[0m\u001b[0;34m\u001b[0m\u001b[0m\n\u001b[1;32m   1002\u001b[0m         train_pool = Pool(X, y, cat_features=cat_features, text_features=text_features, pairs=pairs, weight=sample_weight, group_id=group_id,\n\u001b[0;32m-> 1003\u001b[0;31m                           group_weight=group_weight, subgroup_id=subgroup_id, pairs_weight=pairs_weight, baseline=baseline)\n\u001b[0m\u001b[1;32m   1004\u001b[0m     \u001b[0;32mreturn\u001b[0m \u001b[0mtrain_pool\u001b[0m\u001b[0;34m\u001b[0m\u001b[0;34m\u001b[0m\u001b[0m\n\u001b[1;32m   1005\u001b[0m \u001b[0;34m\u001b[0m\u001b[0m\n",
      "\u001b[0;32m~/anaconda3/envs/ptn35env/lib/python3.6/site-packages/catboost/core.py\u001b[0m in \u001b[0;36m__init__\u001b[0;34m(self, data, label, cat_features, text_features, column_description, pairs, delimiter, has_header, weight, group_id, group_weight, subgroup_id, pairs_weight, baseline, feature_names, thread_count)\u001b[0m\n\u001b[1;32m    382\u001b[0m                     )\n\u001b[1;32m    383\u001b[0m \u001b[0;34m\u001b[0m\u001b[0m\n\u001b[0;32m--> 384\u001b[0;31m                 \u001b[0mself\u001b[0m\u001b[0;34m.\u001b[0m\u001b[0m_init\u001b[0m\u001b[0;34m(\u001b[0m\u001b[0mdata\u001b[0m\u001b[0;34m,\u001b[0m \u001b[0mlabel\u001b[0m\u001b[0;34m,\u001b[0m \u001b[0mcat_features\u001b[0m\u001b[0;34m,\u001b[0m \u001b[0mtext_features\u001b[0m\u001b[0;34m,\u001b[0m \u001b[0mpairs\u001b[0m\u001b[0;34m,\u001b[0m \u001b[0mweight\u001b[0m\u001b[0;34m,\u001b[0m \u001b[0mgroup_id\u001b[0m\u001b[0;34m,\u001b[0m \u001b[0mgroup_weight\u001b[0m\u001b[0;34m,\u001b[0m \u001b[0msubgroup_id\u001b[0m\u001b[0;34m,\u001b[0m \u001b[0mpairs_weight\u001b[0m\u001b[0;34m,\u001b[0m \u001b[0mbaseline\u001b[0m\u001b[0;34m,\u001b[0m \u001b[0mfeature_names\u001b[0m\u001b[0;34m,\u001b[0m \u001b[0mthread_count\u001b[0m\u001b[0;34m)\u001b[0m\u001b[0;34m\u001b[0m\u001b[0;34m\u001b[0m\u001b[0m\n\u001b[0m\u001b[1;32m    385\u001b[0m         \u001b[0msuper\u001b[0m\u001b[0;34m(\u001b[0m\u001b[0mPool\u001b[0m\u001b[0;34m,\u001b[0m \u001b[0mself\u001b[0m\u001b[0;34m)\u001b[0m\u001b[0;34m.\u001b[0m\u001b[0m__init__\u001b[0m\u001b[0;34m(\u001b[0m\u001b[0;34m)\u001b[0m\u001b[0;34m\u001b[0m\u001b[0;34m\u001b[0m\u001b[0m\n\u001b[1;32m    386\u001b[0m \u001b[0;34m\u001b[0m\u001b[0m\n",
      "\u001b[0;32m~/anaconda3/envs/ptn35env/lib/python3.6/site-packages/catboost/core.py\u001b[0m in \u001b[0;36m_init\u001b[0;34m(self, data, label, cat_features, text_features, pairs, weight, group_id, group_weight, subgroup_id, pairs_weight, baseline, feature_names, thread_count)\u001b[0m\n\u001b[1;32m    982\u001b[0m             \u001b[0mbaseline\u001b[0m \u001b[0;34m=\u001b[0m \u001b[0mnp\u001b[0m\u001b[0;34m.\u001b[0m\u001b[0mreshape\u001b[0m\u001b[0;34m(\u001b[0m\u001b[0mbaseline\u001b[0m\u001b[0;34m,\u001b[0m \u001b[0;34m(\u001b[0m\u001b[0msamples_count\u001b[0m\u001b[0;34m,\u001b[0m \u001b[0;34m-\u001b[0m\u001b[0;36m1\u001b[0m\u001b[0;34m)\u001b[0m\u001b[0;34m)\u001b[0m\u001b[0;34m\u001b[0m\u001b[0;34m\u001b[0m\u001b[0m\n\u001b[1;32m    983\u001b[0m             \u001b[0mself\u001b[0m\u001b[0;34m.\u001b[0m\u001b[0m_check_baseline_shape\u001b[0m\u001b[0;34m(\u001b[0m\u001b[0mbaseline\u001b[0m\u001b[0;34m,\u001b[0m \u001b[0msamples_count\u001b[0m\u001b[0;34m)\u001b[0m\u001b[0;34m\u001b[0m\u001b[0;34m\u001b[0m\u001b[0m\n\u001b[0;32m--> 984\u001b[0;31m         \u001b[0mself\u001b[0m\u001b[0;34m.\u001b[0m\u001b[0m_init_pool\u001b[0m\u001b[0;34m(\u001b[0m\u001b[0mdata\u001b[0m\u001b[0;34m,\u001b[0m \u001b[0mlabel\u001b[0m\u001b[0;34m,\u001b[0m \u001b[0mcat_features\u001b[0m\u001b[0;34m,\u001b[0m \u001b[0mtext_features\u001b[0m\u001b[0;34m,\u001b[0m \u001b[0mpairs\u001b[0m\u001b[0;34m,\u001b[0m \u001b[0mweight\u001b[0m\u001b[0;34m,\u001b[0m \u001b[0mgroup_id\u001b[0m\u001b[0;34m,\u001b[0m \u001b[0mgroup_weight\u001b[0m\u001b[0;34m,\u001b[0m \u001b[0msubgroup_id\u001b[0m\u001b[0;34m,\u001b[0m \u001b[0mpairs_weight\u001b[0m\u001b[0;34m,\u001b[0m \u001b[0mbaseline\u001b[0m\u001b[0;34m,\u001b[0m \u001b[0mfeature_names\u001b[0m\u001b[0;34m,\u001b[0m \u001b[0mthread_count\u001b[0m\u001b[0;34m)\u001b[0m\u001b[0;34m\u001b[0m\u001b[0;34m\u001b[0m\u001b[0m\n\u001b[0m\u001b[1;32m    985\u001b[0m \u001b[0;34m\u001b[0m\u001b[0m\n\u001b[1;32m    986\u001b[0m \u001b[0;34m\u001b[0m\u001b[0m\n",
      "\u001b[0;32m_catboost.pyx\u001b[0m in \u001b[0;36m_catboost._PoolBase._init_pool\u001b[0;34m()\u001b[0m\n",
      "\u001b[0;32m_catboost.pyx\u001b[0m in \u001b[0;36m_catboost._PoolBase._init_pool\u001b[0;34m()\u001b[0m\n",
      "\u001b[0;32m_catboost.pyx\u001b[0m in \u001b[0;36m_catboost._PoolBase._init_objects_order_layout_pool\u001b[0;34m()\u001b[0m\n",
      "\u001b[0;32m_catboost.pyx\u001b[0m in \u001b[0;36m_catboost._set_data\u001b[0;34m()\u001b[0m\n",
      "\u001b[0;32m_catboost.pyx\u001b[0m in \u001b[0;36m_catboost._set_data_from_generic_matrix\u001b[0;34m()\u001b[0m\n",
      "\u001b[0;32m_catboost.pyx\u001b[0m in \u001b[0;36m_catboost.get_float_feature\u001b[0;34m()\u001b[0m\n",
      "\u001b[0;31mCatBoostError\u001b[0m: Bad value for num_feature[non_default_doc_idx=0,feature_idx=3]=\"U\": Cannot convert 'b'U'' to float"
     ]
    }
   ],
   "source": [
    "pred = trans_train_model(data_train_full,data_test_full, verbose=2)"
   ]
  },
  {
   "cell_type": "code",
   "execution_count": 59,
   "metadata": {},
   "outputs": [],
   "source": [
    "df_submission = pd.DataFrame({'client_id':data_test_full.index,'uplift': pred})\n",
    "df_submission.to_csv('sub_4.csv', index=False)"
   ]
  },
  {
   "cell_type": "code",
   "execution_count": 57,
   "metadata": {},
   "outputs": [
    {
     "data": {
      "text/plain": [
       "Index(['000048b7a6', '000073194a', '00007c7133', '00007f9014', '0000a90cf7',\n",
       "       '0000b59cec', '0000bb4e4e', '0000bcec9c', '0000eecb82', '0000f0ecdb',\n",
       "       ...\n",
       "       'fffb310977', 'fffbfc9346', 'fffc68800d', 'fffc6fd3ea', 'fffde49bc6',\n",
       "       'fffeacbe3e', 'fffece623e', 'ffff3dfff8', 'ffffaab9da', 'ffffeb5619'],\n",
       "      dtype='object', name='client_id', length=200123)"
      ]
     },
     "execution_count": 57,
     "metadata": {},
     "output_type": "execute_result"
    }
   ],
   "source": [
    "data_test_full.index"
   ]
  },
  {
   "cell_type": "code",
   "execution_count": null,
   "metadata": {},
   "outputs": [],
   "source": []
  },
  {
   "cell_type": "code",
   "execution_count": 137,
   "metadata": {},
   "outputs": [],
   "source": [
    "sol1.index = sol1['client_id']\n",
    "del sol1['client_id']"
   ]
  },
  {
   "cell_type": "code",
   "execution_count": 138,
   "metadata": {},
   "outputs": [
    {
     "data": {
      "text/html": [
       "<div>\n",
       "<style scoped>\n",
       "    .dataframe tbody tr th:only-of-type {\n",
       "        vertical-align: middle;\n",
       "    }\n",
       "\n",
       "    .dataframe tbody tr th {\n",
       "        vertical-align: top;\n",
       "    }\n",
       "\n",
       "    .dataframe thead th {\n",
       "        text-align: right;\n",
       "    }\n",
       "</style>\n",
       "<table border=\"1\" class=\"dataframe\">\n",
       "  <thead>\n",
       "    <tr style=\"text-align: right;\">\n",
       "      <th></th>\n",
       "      <th>uplift</th>\n",
       "    </tr>\n",
       "    <tr>\n",
       "      <th>client_id</th>\n",
       "      <th></th>\n",
       "    </tr>\n",
       "  </thead>\n",
       "  <tbody>\n",
       "    <tr>\n",
       "      <th>000048b7a6</th>\n",
       "      <td>0.056886</td>\n",
       "    </tr>\n",
       "    <tr>\n",
       "      <th>000073194a</th>\n",
       "      <td>0.037388</td>\n",
       "    </tr>\n",
       "    <tr>\n",
       "      <th>00007c7133</th>\n",
       "      <td>0.038690</td>\n",
       "    </tr>\n",
       "    <tr>\n",
       "      <th>00007f9014</th>\n",
       "      <td>0.017279</td>\n",
       "    </tr>\n",
       "    <tr>\n",
       "      <th>0000a90cf7</th>\n",
       "      <td>0.015631</td>\n",
       "    </tr>\n",
       "    <tr>\n",
       "      <th>...</th>\n",
       "      <td>...</td>\n",
       "    </tr>\n",
       "    <tr>\n",
       "      <th>fffeacbe3e</th>\n",
       "      <td>0.033306</td>\n",
       "    </tr>\n",
       "    <tr>\n",
       "      <th>fffece623e</th>\n",
       "      <td>0.035032</td>\n",
       "    </tr>\n",
       "    <tr>\n",
       "      <th>ffff3dfff8</th>\n",
       "      <td>0.052328</td>\n",
       "    </tr>\n",
       "    <tr>\n",
       "      <th>ffffaab9da</th>\n",
       "      <td>0.021083</td>\n",
       "    </tr>\n",
       "    <tr>\n",
       "      <th>ffffeb5619</th>\n",
       "      <td>0.064051</td>\n",
       "    </tr>\n",
       "  </tbody>\n",
       "</table>\n",
       "<p>200123 rows × 1 columns</p>\n",
       "</div>"
      ],
      "text/plain": [
       "              uplift\n",
       "client_id           \n",
       "000048b7a6  0.056886\n",
       "000073194a  0.037388\n",
       "00007c7133  0.038690\n",
       "00007f9014  0.017279\n",
       "0000a90cf7  0.015631\n",
       "...              ...\n",
       "fffeacbe3e  0.033306\n",
       "fffece623e  0.035032\n",
       "ffff3dfff8  0.052328\n",
       "ffffaab9da  0.021083\n",
       "ffffeb5619  0.064051\n",
       "\n",
       "[200123 rows x 1 columns]"
      ]
     },
     "execution_count": 138,
     "metadata": {},
     "output_type": "execute_result"
    }
   ],
   "source": [
    "sol1"
   ]
  },
  {
   "cell_type": "code",
   "execution_count": 139,
   "metadata": {},
   "outputs": [],
   "source": [
    "sol1.to_csv('sol2.csv')"
   ]
  },
  {
   "cell_type": "code",
   "execution_count": 113,
   "metadata": {},
   "outputs": [],
   "source": [
    "from catboost import CatBoostClassifier"
   ]
  },
  {
   "cell_type": "code",
   "execution_count": 133,
   "metadata": {},
   "outputs": [
    {
     "data": {
      "text/plain": [
       "<catboost.core.CatBoostClassifier at 0x7f78b37a64e0>"
      ]
     },
     "execution_count": 133,
     "metadata": {},
     "output_type": "execute_result"
    }
   ],
   "source": [
    "cbc = CatBoostClassifier(thread_count=2, random_state=17, silent=True)\n",
    "cbc.fit(train,data_train['target'])"
   ]
  },
  {
   "cell_type": "code",
   "execution_count": 134,
   "metadata": {},
   "outputs": [],
   "source": [
    "preds1 = [i[1] for i in cbc.predict_proba(test1)]\n",
    "preds0 = [i[1] for i in cbc.predict_proba(test0)]"
   ]
  },
  {
   "cell_type": "code",
   "execution_count": null,
   "metadata": {},
   "outputs": [],
   "source": []
  },
  {
   "cell_type": "code",
   "execution_count": null,
   "metadata": {},
   "outputs": [],
   "source": []
  },
  {
   "cell_type": "code",
   "execution_count": null,
   "metadata": {},
   "outputs": [],
   "source": []
  }
 ],
 "metadata": {
  "kernelspec": {
   "display_name": "Python 3",
   "language": "python",
   "name": "python3"
  },
  "language_info": {
   "codemirror_mode": {
    "name": "ipython",
    "version": 3
   },
   "file_extension": ".py",
   "mimetype": "text/x-python",
   "name": "python",
   "nbconvert_exporter": "python",
   "pygments_lexer": "ipython3",
   "version": "3.6.10"
  }
 },
 "nbformat": 4,
 "nbformat_minor": 2
}
