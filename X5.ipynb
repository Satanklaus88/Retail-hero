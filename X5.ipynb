{
 "cells": [
  {
   "cell_type": "code",
   "execution_count": 1,
   "metadata": {},
   "outputs": [
    {
     "name": "stdout",
     "output_type": "stream",
     "text": [
      "Populating the interactive namespace from numpy and matplotlib\n"
     ]
    }
   ],
   "source": [
    "import numpy as np\n",
    "import pandas as pd\n",
    "from sklearn.model_selection import StratifiedKFold\n",
    "from sklearn.linear_model import SGDClassifier, LogisticRegression\n",
    "from sklearn.metrics import roc_auc_score,log_loss\n",
    "from tqdm import tqdm\n",
    "from sklearn.preprocessing import  OneHotEncoder,StandardScaler\n",
    "import pandas_profiling\n",
    "import datetime as dt\n",
    "from catboost import CatBoostClassifier\n",
    "%pylab inline\n",
    "warnings.filterwarnings('ignore')"
   ]
  },
  {
   "cell_type": "code",
   "execution_count": 2,
   "metadata": {},
   "outputs": [],
   "source": [
    "df = pd.read_csv('data/uplift_train.csv')\n",
    "df1 = pd.read_csv('data/clients.csv', parse_dates=['first_issue_date','first_redeem_date'])\n",
    "df2 = pd.read_csv('data/products.csv')\n",
    "test = pd.read_csv('data/uplift_test.csv')"
   ]
  },
  {
   "cell_type": "code",
   "execution_count": 3,
   "metadata": {},
   "outputs": [
    {
     "data": {
      "text/html": [
       "<div>\n",
       "<style scoped>\n",
       "    .dataframe tbody tr th:only-of-type {\n",
       "        vertical-align: middle;\n",
       "    }\n",
       "\n",
       "    .dataframe tbody tr th {\n",
       "        vertical-align: top;\n",
       "    }\n",
       "\n",
       "    .dataframe thead th {\n",
       "        text-align: right;\n",
       "    }\n",
       "</style>\n",
       "<table border=\"1\" class=\"dataframe\">\n",
       "  <thead>\n",
       "    <tr style=\"text-align: right;\">\n",
       "      <th></th>\n",
       "      <th>client_id</th>\n",
       "      <th>first_issue_date</th>\n",
       "      <th>first_redeem_date</th>\n",
       "      <th>age</th>\n",
       "      <th>gender</th>\n",
       "    </tr>\n",
       "  </thead>\n",
       "  <tbody>\n",
       "    <tr>\n",
       "      <th>0</th>\n",
       "      <td>000012768d</td>\n",
       "      <td>2017-08-05 15:40:48</td>\n",
       "      <td>2018-01-04 19:30:07</td>\n",
       "      <td>45</td>\n",
       "      <td>U</td>\n",
       "    </tr>\n",
       "    <tr>\n",
       "      <th>1</th>\n",
       "      <td>000036f903</td>\n",
       "      <td>2017-04-10 13:54:23</td>\n",
       "      <td>2017-04-23 12:37:56</td>\n",
       "      <td>72</td>\n",
       "      <td>F</td>\n",
       "    </tr>\n",
       "    <tr>\n",
       "      <th>2</th>\n",
       "      <td>000048b7a6</td>\n",
       "      <td>2018-12-15 13:33:11</td>\n",
       "      <td>NaT</td>\n",
       "      <td>68</td>\n",
       "      <td>F</td>\n",
       "    </tr>\n",
       "    <tr>\n",
       "      <th>3</th>\n",
       "      <td>000073194a</td>\n",
       "      <td>2017-05-23 12:56:14</td>\n",
       "      <td>2017-11-24 11:18:01</td>\n",
       "      <td>60</td>\n",
       "      <td>F</td>\n",
       "    </tr>\n",
       "    <tr>\n",
       "      <th>4</th>\n",
       "      <td>00007c7133</td>\n",
       "      <td>2017-05-22 16:17:08</td>\n",
       "      <td>2018-12-31 17:17:33</td>\n",
       "      <td>67</td>\n",
       "      <td>U</td>\n",
       "    </tr>\n",
       "    <tr>\n",
       "      <th>...</th>\n",
       "      <td>...</td>\n",
       "      <td>...</td>\n",
       "      <td>...</td>\n",
       "      <td>...</td>\n",
       "      <td>...</td>\n",
       "    </tr>\n",
       "    <tr>\n",
       "      <th>400157</th>\n",
       "      <td>fffece623e</td>\n",
       "      <td>2018-05-13 15:09:30</td>\n",
       "      <td>2018-12-27 19:06:39</td>\n",
       "      <td>67</td>\n",
       "      <td>U</td>\n",
       "    </tr>\n",
       "    <tr>\n",
       "      <th>400158</th>\n",
       "      <td>ffff3dfff8</td>\n",
       "      <td>2018-11-01 16:06:52</td>\n",
       "      <td>2018-12-07 17:33:47</td>\n",
       "      <td>56</td>\n",
       "      <td>F</td>\n",
       "    </tr>\n",
       "    <tr>\n",
       "      <th>400159</th>\n",
       "      <td>ffffaab9da</td>\n",
       "      <td>2017-08-25 18:43:24</td>\n",
       "      <td>2017-12-08 17:53:19</td>\n",
       "      <td>23</td>\n",
       "      <td>F</td>\n",
       "    </tr>\n",
       "    <tr>\n",
       "      <th>400160</th>\n",
       "      <td>ffffeb5619</td>\n",
       "      <td>2017-12-05 13:26:28</td>\n",
       "      <td>NaT</td>\n",
       "      <td>62</td>\n",
       "      <td>U</td>\n",
       "    </tr>\n",
       "    <tr>\n",
       "      <th>400161</th>\n",
       "      <td>fffff6ce77</td>\n",
       "      <td>2017-08-03 20:25:12</td>\n",
       "      <td>2017-08-26 16:41:41</td>\n",
       "      <td>42</td>\n",
       "      <td>U</td>\n",
       "    </tr>\n",
       "  </tbody>\n",
       "</table>\n",
       "<p>400162 rows × 5 columns</p>\n",
       "</div>"
      ],
      "text/plain": [
       "         client_id    first_issue_date   first_redeem_date  age gender\n",
       "0       000012768d 2017-08-05 15:40:48 2018-01-04 19:30:07   45      U\n",
       "1       000036f903 2017-04-10 13:54:23 2017-04-23 12:37:56   72      F\n",
       "2       000048b7a6 2018-12-15 13:33:11                 NaT   68      F\n",
       "3       000073194a 2017-05-23 12:56:14 2017-11-24 11:18:01   60      F\n",
       "4       00007c7133 2017-05-22 16:17:08 2018-12-31 17:17:33   67      U\n",
       "...            ...                 ...                 ...  ...    ...\n",
       "400157  fffece623e 2018-05-13 15:09:30 2018-12-27 19:06:39   67      U\n",
       "400158  ffff3dfff8 2018-11-01 16:06:52 2018-12-07 17:33:47   56      F\n",
       "400159  ffffaab9da 2017-08-25 18:43:24 2017-12-08 17:53:19   23      F\n",
       "400160  ffffeb5619 2017-12-05 13:26:28                 NaT   62      U\n",
       "400161  fffff6ce77 2017-08-03 20:25:12 2017-08-26 16:41:41   42      U\n",
       "\n",
       "[400162 rows x 5 columns]"
      ]
     },
     "execution_count": 3,
     "metadata": {},
     "output_type": "execute_result"
    }
   ],
   "source": [
    "df1"
   ]
  },
  {
   "cell_type": "code",
   "execution_count": 4,
   "metadata": {},
   "outputs": [],
   "source": [
    "df1['first_redeem_date']=df1['first_redeem_date'].fillna(dt.datetime(2019, 3, 19, 0, 0))\n",
    "df1['first_issue_date'] = df1['first_issue_date'].apply(lambda x: x.timestamp())\n",
    "df1['first_redeem_date'] = df1['first_redeem_date'].apply(lambda x: x.timestamp())"
   ]
  },
  {
   "cell_type": "code",
   "execution_count": 5,
   "metadata": {},
   "outputs": [],
   "source": [
    "df1['redeem_diff'] = dt.datetime(2019, 3, 19, 0, 0).timestamp()-df1['first_redeem_date']\n",
    "df1['diff'] = df1['first_redeem_date'] - df1['first_issue_date']"
   ]
  },
  {
   "cell_type": "code",
   "execution_count": 6,
   "metadata": {},
   "outputs": [],
   "source": [
    "data_train = pd.merge(df1,df)\n",
    "data_test = pd.merge(df1,test)"
   ]
  },
  {
   "cell_type": "code",
   "execution_count": 7,
   "metadata": {},
   "outputs": [],
   "source": [
    "#data_train['first_issue_date']=pd.to_datetime(data_train['first_issue_date'])\n",
    "#data_train['first_redeem_date']=pd.to_datetime(data_train['first_redeem_date'])\n",
    "#data_test['first_issue_date']=pd.to_datetime(data_test['first_issue_date'])\n",
    "#data_test['first_redeem_date']=pd.to_datetime(data_test['first_redeem_date'])"
   ]
  },
  {
   "cell_type": "code",
   "execution_count": 8,
   "metadata": {},
   "outputs": [],
   "source": [
    "#data_train = pd.merge(df1,df)\n",
    "#miss = data_train[data_train['first_redeem_date'].isna()]\n",
    "#miss['first_redeem_date']=miss['first_issue_date']\n",
    "#data_train.first_redeem_date[miss.index]=miss.first_redeem_date.values\n",
    "#data_train"
   ]
  },
  {
   "cell_type": "code",
   "execution_count": 9,
   "metadata": {},
   "outputs": [],
   "source": [
    "#data_test=pd.merge(df1,test)\n",
    "#miss = data_test[data_test['first_redeem_date'].isna()]\n",
    "#miss['first_redeem_date']=miss['first_issue_date']\n",
    "#data_test.first_redeem_date[miss.index]=miss.first_redeem_date.values\n",
    "#data_test"
   ]
  },
  {
   "cell_type": "code",
   "execution_count": 10,
   "metadata": {},
   "outputs": [
    {
     "name": "stdout",
     "output_type": "stream",
     "text": [
      "<class 'pandas.core.frame.DataFrame'>\n",
      "Int64Index: 200039 entries, 0 to 200038\n",
      "Data columns (total 9 columns):\n",
      "client_id            200039 non-null object\n",
      "first_issue_date     200039 non-null float64\n",
      "first_redeem_date    200039 non-null float64\n",
      "age                  200039 non-null int64\n",
      "gender               200039 non-null object\n",
      "redeem_diff          200039 non-null float64\n",
      "diff                 200039 non-null float64\n",
      "treatment_flg        200039 non-null int64\n",
      "target               200039 non-null int64\n",
      "dtypes: float64(4), int64(3), object(2)\n",
      "memory usage: 15.3+ MB\n"
     ]
    }
   ],
   "source": [
    "data_train.info()"
   ]
  },
  {
   "cell_type": "code",
   "execution_count": 11,
   "metadata": {},
   "outputs": [],
   "source": [
    "data_train['fake_age'] = data_train['age'].apply(lambda x:int((x>90)or(x<16)))\n",
    "data_test['fake_age'] = data_test['age'].apply(lambda x:int((x>90)or(x<16)))"
   ]
  },
  {
   "cell_type": "code",
   "execution_count": 12,
   "metadata": {},
   "outputs": [],
   "source": [
    "#data_train['first_issue_date'] = data_train['first_issue_date'].apply(lambda x: x.timestamp())\n",
    "#data_train['first_redeem_date'] = data_train['first_redeem_date'].apply(lambda x: x.timestamp())\n",
    "#data_test['first_issue_date'] = data_test['first_issue_date'].apply(lambda x: x.timestamp())\n",
    "#data_test['first_redeem_date'] = data_test['first_redeem_date'].apply(lambda x: x.timestamp())"
   ]
  },
  {
   "cell_type": "code",
   "execution_count": 13,
   "metadata": {},
   "outputs": [],
   "source": [
    "purch = pd.read_csv('data/purchases.csv',parse_dates=['transaction_datetime'])"
   ]
  },
  {
   "cell_type": "code",
   "execution_count": 14,
   "metadata": {},
   "outputs": [],
   "source": [
    "user_id = purch.drop_duplicates('client_id').client_id.values"
   ]
  },
  {
   "cell_type": "code",
   "execution_count": 15,
   "metadata": {},
   "outputs": [],
   "source": [
    "transactions = purch.drop_duplicates('transaction_id')"
   ]
  },
  {
   "cell_type": "code",
   "execution_count": 16,
   "metadata": {},
   "outputs": [],
   "source": [
    "transactions['transaction_datetime'] = transactions['transaction_datetime'].apply(lambda x: x.timestamp())"
   ]
  },
  {
   "cell_type": "code",
   "execution_count": 17,
   "metadata": {},
   "outputs": [],
   "source": [
    "#число покупок\n",
    "a = transactions[['client_id','transaction_id']].values\n",
    "pok=[]\n",
    "user=''\n",
    "count=0\n",
    "for row in a:\n",
    "    if row[0]!=user:\n",
    "        pok.append(count)\n",
    "        user =row[0]\n",
    "        count=1\n",
    "    else:\n",
    "        count+=1\n",
    "pokupki = pok[1:]\n",
    "pokupki.append(count)"
   ]
  },
  {
   "cell_type": "code",
   "execution_count": 18,
   "metadata": {},
   "outputs": [],
   "source": [
    "#даты последних покупок\n",
    "dates = purch.drop_duplicates('client_id',keep='last').transaction_datetime.values"
   ]
  },
  {
   "cell_type": "code",
   "execution_count": 19,
   "metadata": {},
   "outputs": [],
   "source": [
    "#число магазинов\n",
    "b = transactions[['client_id','store_id']].values\n",
    "store=[]\n",
    "user=''\n",
    "count=0\n",
    "for row in b:\n",
    "    if row[0]!=user:\n",
    "        store.append(count)\n",
    "        user =row[0]\n",
    "        count=1\n",
    "        last_store = row[1]\n",
    "    else:\n",
    "        if row[1]!=last_store:\n",
    "            count+=1\n",
    "            last_store = row[1]\n",
    "stores = store[1:]\n",
    "stores.append(count)"
   ]
  },
  {
   "cell_type": "code",
   "execution_count": 20,
   "metadata": {},
   "outputs": [],
   "source": [
    "#cредняя сумма покупки\n",
    "c = transactions[['client_id','purchase_sum']].values\n",
    "avsum=[]\n",
    "user=''\n",
    "count=1\n",
    "sred=0\n",
    "for row in c:\n",
    "    if row[0]!=user:\n",
    "        avsum.append(sred/count)\n",
    "        user =row[0]\n",
    "        count=1\n",
    "        sred=row[1]\n",
    "    else:\n",
    "        count+=1\n",
    "        sred+=row[1]\n",
    "average = avsum[1:]\n",
    "average.append(sred/count)"
   ]
  },
  {
   "cell_type": "code",
   "execution_count": 21,
   "metadata": {},
   "outputs": [],
   "source": [
    "produkti = purch.product_id.values\n",
    "useri = purch.client_id.values"
   ]
  },
  {
   "cell_type": "code",
   "execution_count": 22,
   "metadata": {},
   "outputs": [],
   "source": [
    "alcohol = set(df2[df2['is_alcohol']==1].product_id.values)\n",
    "owner = set(df2[df2['is_own_trademark']==1].product_id.values)"
   ]
  },
  {
   "cell_type": "code",
   "execution_count": 23,
   "metadata": {},
   "outputs": [],
   "source": [
    "alc = lambda x: int(x in alcohol)\n",
    "is_alc = [alc(i) for i in produkti]\n",
    "own = lambda x: int(x in owner)\n",
    "is_own = [own(i) for i in produkti]"
   ]
  },
  {
   "cell_type": "code",
   "execution_count": 24,
   "metadata": {},
   "outputs": [],
   "source": [
    "purch['product_is_alco']=is_alc\n",
    "purch['product_is_own']=is_own"
   ]
  },
  {
   "cell_type": "code",
   "execution_count": 25,
   "metadata": {},
   "outputs": [],
   "source": [
    "#число купленного алкоголя и собственной торговой марки\n",
    "a = transactions[['client_id','transaction_id']].values\n",
    "alc_count=[]\n",
    "own_count=[]\n",
    "user=''\n",
    "count_alc=0\n",
    "count_own=0\n",
    "for i in range(len(useri)):\n",
    "    if useri[i]!=user:\n",
    "        alc_count.append(count_alc)\n",
    "        own_count.append(count_own)\n",
    "        user =useri[i]\n",
    "        count_alc=is_alc[i]\n",
    "        count_own=is_own[i]\n",
    "    else:\n",
    "        count_alc+=is_alc[i]\n",
    "        count_own+=is_own[i]\n",
    "alc_count = alc_count[1:]\n",
    "own_count = own_count[1:]\n",
    "alc_count.append(count_alc)\n",
    "own_count.append(count_own)"
   ]
  },
  {
   "cell_type": "code",
   "execution_count": 26,
   "metadata": {},
   "outputs": [],
   "source": [
    "new_features = pd.DataFrame({'client_id':user_id,'transaction_count':pokupki,'av_sum':average,\n",
    "                             'last_transaction':dates,'store_count':stores,\n",
    "                             'alc_count':alc_count,'own_count':own_count})"
   ]
  },
  {
   "cell_type": "code",
   "execution_count": 27,
   "metadata": {},
   "outputs": [],
   "source": [
    "new_features['last_transaction'] = new_features['last_transaction'].apply(lambda x: x.timestamp())"
   ]
  },
  {
   "cell_type": "code",
   "execution_count": 28,
   "metadata": {},
   "outputs": [],
   "source": [
    "new_features['transaction_sum'] = new_features['av_sum']*new_features['transaction_count']"
   ]
  },
  {
   "cell_type": "code",
   "execution_count": 29,
   "metadata": {},
   "outputs": [],
   "source": [
    "data_train_full = pd.merge(data_train,new_features)\n",
    "data_test_full = pd.merge(data_test,new_features)"
   ]
  },
  {
   "cell_type": "code",
   "execution_count": 30,
   "metadata": {},
   "outputs": [],
   "source": [
    "data_train_full.index=data_train_full['client_id']\n",
    "del data_train_full['client_id']"
   ]
  },
  {
   "cell_type": "code",
   "execution_count": 31,
   "metadata": {},
   "outputs": [],
   "source": [
    "data_test_full.index=data_test_full['client_id']\n",
    "del data_test_full['client_id']"
   ]
  },
  {
   "cell_type": "code",
   "execution_count": 32,
   "metadata": {},
   "outputs": [],
   "source": [
    "X = data_train_full.drop(['target'],axis='columns')"
   ]
  },
  {
   "cell_type": "code",
   "execution_count": 33,
   "metadata": {},
   "outputs": [
    {
     "data": {
      "text/plain": [
       "Index(['first_issue_date', 'first_redeem_date', 'age', 'gender', 'redeem_diff',\n",
       "       'diff', 'treatment_flg', 'fake_age', 'transaction_count', 'av_sum',\n",
       "       'last_transaction', 'store_count', 'alc_count', 'own_count',\n",
       "       'transaction_sum'],\n",
       "      dtype='object')"
      ]
     },
     "execution_count": 33,
     "metadata": {},
     "output_type": "execute_result"
    }
   ],
   "source": [
    "X.columns"
   ]
  },
  {
   "cell_type": "code",
   "execution_count": 34,
   "metadata": {},
   "outputs": [],
   "source": [
    "Cat_cols = ['gender','fake_age']\n",
    "Num_cols = ['first_issue_date', 'first_redeem_date', 'age','transaction_count', 'av_sum',\n",
    "       'last_transaction', 'store_count', 'alc_count', 'own_count','transaction_sum','redeem_diff','diff']"
   ]
  },
  {
   "cell_type": "code",
   "execution_count": 35,
   "metadata": {},
   "outputs": [],
   "source": [
    "enc = OneHotEncoder(sparse=False)\n",
    "scaler = StandardScaler()"
   ]
  },
  {
   "cell_type": "code",
   "execution_count": 36,
   "metadata": {},
   "outputs": [],
   "source": [
    "X_cat_encoded = pd.DataFrame(enc.fit_transform(X[Cat_cols]))"
   ]
  },
  {
   "cell_type": "code",
   "execution_count": 37,
   "metadata": {},
   "outputs": [],
   "source": [
    "X_num_scaled = pd.DataFrame(scaler.fit_transform(X[Num_cols]),columns=Num_cols)"
   ]
  },
  {
   "cell_type": "code",
   "execution_count": 38,
   "metadata": {},
   "outputs": [],
   "source": [
    "Test_cat = pd.DataFrame(enc.fit_transform(data_test_full[Cat_cols]))"
   ]
  },
  {
   "cell_type": "code",
   "execution_count": 39,
   "metadata": {},
   "outputs": [],
   "source": [
    "Test_num =  pd.DataFrame(scaler.fit_transform(data_test_full[Num_cols]),columns=Num_cols)"
   ]
  },
  {
   "cell_type": "code",
   "execution_count": 40,
   "metadata": {},
   "outputs": [],
   "source": [
    "test = pd.concat([Test_cat,Test_num],axis=1)"
   ]
  },
  {
   "cell_type": "code",
   "execution_count": 41,
   "metadata": {},
   "outputs": [],
   "source": [
    "train =pd.concat([X_cat_encoded,X_num_scaled,data_train['treatment_flg']],axis=1)"
   ]
  },
  {
   "cell_type": "code",
   "execution_count": 42,
   "metadata": {},
   "outputs": [],
   "source": [
    "train_full = pd.concat([X_cat_encoded,X_num_scaled,data_train[['treatment_flg','target']]],axis=1)"
   ]
  },
  {
   "cell_type": "code",
   "execution_count": 43,
   "metadata": {},
   "outputs": [
    {
     "data": {
      "text/html": [
       "<div>\n",
       "<style scoped>\n",
       "    .dataframe tbody tr th:only-of-type {\n",
       "        vertical-align: middle;\n",
       "    }\n",
       "\n",
       "    .dataframe tbody tr th {\n",
       "        vertical-align: top;\n",
       "    }\n",
       "\n",
       "    .dataframe thead th {\n",
       "        text-align: right;\n",
       "    }\n",
       "</style>\n",
       "<table border=\"1\" class=\"dataframe\">\n",
       "  <thead>\n",
       "    <tr style=\"text-align: right;\">\n",
       "      <th></th>\n",
       "      <th>first_issue_date</th>\n",
       "      <th>first_redeem_date</th>\n",
       "      <th>age</th>\n",
       "      <th>gender</th>\n",
       "      <th>redeem_diff</th>\n",
       "      <th>diff</th>\n",
       "      <th>treatment_flg</th>\n",
       "      <th>target</th>\n",
       "      <th>fake_age</th>\n",
       "      <th>transaction_count</th>\n",
       "      <th>av_sum</th>\n",
       "      <th>last_transaction</th>\n",
       "      <th>store_count</th>\n",
       "      <th>alc_count</th>\n",
       "      <th>own_count</th>\n",
       "      <th>transaction_sum</th>\n",
       "    </tr>\n",
       "    <tr>\n",
       "      <th>client_id</th>\n",
       "      <th></th>\n",
       "      <th></th>\n",
       "      <th></th>\n",
       "      <th></th>\n",
       "      <th></th>\n",
       "      <th></th>\n",
       "      <th></th>\n",
       "      <th></th>\n",
       "      <th></th>\n",
       "      <th></th>\n",
       "      <th></th>\n",
       "      <th></th>\n",
       "      <th></th>\n",
       "      <th></th>\n",
       "      <th></th>\n",
       "      <th></th>\n",
       "    </tr>\n",
       "  </thead>\n",
       "  <tbody>\n",
       "    <tr>\n",
       "      <th>000012768d</th>\n",
       "      <td>1.501948e+09</td>\n",
       "      <td>1.515094e+09</td>\n",
       "      <td>45</td>\n",
       "      <td>U</td>\n",
       "      <td>37848593.0</td>\n",
       "      <td>13146559.0</td>\n",
       "      <td>0</td>\n",
       "      <td>1</td>\n",
       "      <td>0</td>\n",
       "      <td>4</td>\n",
       "      <td>700.750000</td>\n",
       "      <td>1.552576e+09</td>\n",
       "      <td>3</td>\n",
       "      <td>0</td>\n",
       "      <td>4</td>\n",
       "      <td>2803.00</td>\n",
       "    </tr>\n",
       "    <tr>\n",
       "      <th>000036f903</th>\n",
       "      <td>1.491832e+09</td>\n",
       "      <td>1.492951e+09</td>\n",
       "      <td>72</td>\n",
       "      <td>F</td>\n",
       "      <td>59991724.0</td>\n",
       "      <td>1118613.0</td>\n",
       "      <td>1</td>\n",
       "      <td>1</td>\n",
       "      <td>0</td>\n",
       "      <td>32</td>\n",
       "      <td>306.406250</td>\n",
       "      <td>1.552819e+09</td>\n",
       "      <td>14</td>\n",
       "      <td>1</td>\n",
       "      <td>14</td>\n",
       "      <td>9805.00</td>\n",
       "    </tr>\n",
       "    <tr>\n",
       "      <th>00010925a5</th>\n",
       "      <td>1.532449e+09</td>\n",
       "      <td>1.536942e+09</td>\n",
       "      <td>83</td>\n",
       "      <td>U</td>\n",
       "      <td>16001231.0</td>\n",
       "      <td>4492280.0</td>\n",
       "      <td>1</td>\n",
       "      <td>1</td>\n",
       "      <td>0</td>\n",
       "      <td>18</td>\n",
       "      <td>326.833333</td>\n",
       "      <td>1.552029e+09</td>\n",
       "      <td>8</td>\n",
       "      <td>1</td>\n",
       "      <td>9</td>\n",
       "      <td>5883.00</td>\n",
       "    </tr>\n",
       "    <tr>\n",
       "      <th>0001f552b0</th>\n",
       "      <td>1.498850e+09</td>\n",
       "      <td>1.535461e+09</td>\n",
       "      <td>33</td>\n",
       "      <td>F</td>\n",
       "      <td>17481615.0</td>\n",
       "      <td>36610747.0</td>\n",
       "      <td>1</td>\n",
       "      <td>1</td>\n",
       "      <td>0</td>\n",
       "      <td>15</td>\n",
       "      <td>410.345333</td>\n",
       "      <td>1.552734e+09</td>\n",
       "      <td>7</td>\n",
       "      <td>0</td>\n",
       "      <td>10</td>\n",
       "      <td>6155.18</td>\n",
       "    </tr>\n",
       "    <tr>\n",
       "      <th>00020e7b18</th>\n",
       "      <td>1.511783e+09</td>\n",
       "      <td>1.515607e+09</td>\n",
       "      <td>73</td>\n",
       "      <td>U</td>\n",
       "      <td>37336195.0</td>\n",
       "      <td>3823700.0</td>\n",
       "      <td>1</td>\n",
       "      <td>1</td>\n",
       "      <td>0</td>\n",
       "      <td>18</td>\n",
       "      <td>1434.422778</td>\n",
       "      <td>1.552651e+09</td>\n",
       "      <td>7</td>\n",
       "      <td>0</td>\n",
       "      <td>44</td>\n",
       "      <td>25819.61</td>\n",
       "    </tr>\n",
       "    <tr>\n",
       "      <th>...</th>\n",
       "      <td>...</td>\n",
       "      <td>...</td>\n",
       "      <td>...</td>\n",
       "      <td>...</td>\n",
       "      <td>...</td>\n",
       "      <td>...</td>\n",
       "      <td>...</td>\n",
       "      <td>...</td>\n",
       "      <td>...</td>\n",
       "      <td>...</td>\n",
       "      <td>...</td>\n",
       "      <td>...</td>\n",
       "      <td>...</td>\n",
       "      <td>...</td>\n",
       "      <td>...</td>\n",
       "      <td>...</td>\n",
       "    </tr>\n",
       "    <tr>\n",
       "      <th>fffe0abb97</th>\n",
       "      <td>1.511773e+09</td>\n",
       "      <td>1.518341e+09</td>\n",
       "      <td>35</td>\n",
       "      <td>F</td>\n",
       "      <td>34601632.0</td>\n",
       "      <td>6568154.0</td>\n",
       "      <td>0</td>\n",
       "      <td>0</td>\n",
       "      <td>0</td>\n",
       "      <td>9</td>\n",
       "      <td>301.824444</td>\n",
       "      <td>1.552632e+09</td>\n",
       "      <td>5</td>\n",
       "      <td>0</td>\n",
       "      <td>3</td>\n",
       "      <td>2716.42</td>\n",
       "    </tr>\n",
       "    <tr>\n",
       "      <th>fffe0ed719</th>\n",
       "      <td>1.505466e+09</td>\n",
       "      <td>1.513090e+09</td>\n",
       "      <td>69</td>\n",
       "      <td>U</td>\n",
       "      <td>39852588.0</td>\n",
       "      <td>7624608.0</td>\n",
       "      <td>0</td>\n",
       "      <td>1</td>\n",
       "      <td>0</td>\n",
       "      <td>30</td>\n",
       "      <td>347.249333</td>\n",
       "      <td>1.552919e+09</td>\n",
       "      <td>2</td>\n",
       "      <td>0</td>\n",
       "      <td>29</td>\n",
       "      <td>10417.48</td>\n",
       "    </tr>\n",
       "    <tr>\n",
       "      <th>fffea1204c</th>\n",
       "      <td>1.517418e+09</td>\n",
       "      <td>1.520874e+09</td>\n",
       "      <td>73</td>\n",
       "      <td>F</td>\n",
       "      <td>32068653.0</td>\n",
       "      <td>3456170.0</td>\n",
       "      <td>0</td>\n",
       "      <td>1</td>\n",
       "      <td>0</td>\n",
       "      <td>17</td>\n",
       "      <td>252.771765</td>\n",
       "      <td>1.552478e+09</td>\n",
       "      <td>1</td>\n",
       "      <td>0</td>\n",
       "      <td>0</td>\n",
       "      <td>4297.12</td>\n",
       "    </tr>\n",
       "    <tr>\n",
       "      <th>fffeca6d22</th>\n",
       "      <td>1.514462e+09</td>\n",
       "      <td>1.552954e+09</td>\n",
       "      <td>77</td>\n",
       "      <td>F</td>\n",
       "      <td>-10800.0</td>\n",
       "      <td>38491427.0</td>\n",
       "      <td>1</td>\n",
       "      <td>0</td>\n",
       "      <td>0</td>\n",
       "      <td>16</td>\n",
       "      <td>177.053750</td>\n",
       "      <td>1.552661e+09</td>\n",
       "      <td>2</td>\n",
       "      <td>0</td>\n",
       "      <td>1</td>\n",
       "      <td>2832.86</td>\n",
       "    </tr>\n",
       "    <tr>\n",
       "      <th>fffff6ce77</th>\n",
       "      <td>1.501792e+09</td>\n",
       "      <td>1.503766e+09</td>\n",
       "      <td>42</td>\n",
       "      <td>U</td>\n",
       "      <td>49177099.0</td>\n",
       "      <td>1973789.0</td>\n",
       "      <td>0</td>\n",
       "      <td>1</td>\n",
       "      <td>0</td>\n",
       "      <td>32</td>\n",
       "      <td>580.018438</td>\n",
       "      <td>1.552672e+09</td>\n",
       "      <td>10</td>\n",
       "      <td>14</td>\n",
       "      <td>43</td>\n",
       "      <td>18560.59</td>\n",
       "    </tr>\n",
       "  </tbody>\n",
       "</table>\n",
       "<p>200039 rows × 16 columns</p>\n",
       "</div>"
      ],
      "text/plain": [
       "            first_issue_date  first_redeem_date  age gender  redeem_diff  \\\n",
       "client_id                                                                  \n",
       "000012768d      1.501948e+09       1.515094e+09   45      U   37848593.0   \n",
       "000036f903      1.491832e+09       1.492951e+09   72      F   59991724.0   \n",
       "00010925a5      1.532449e+09       1.536942e+09   83      U   16001231.0   \n",
       "0001f552b0      1.498850e+09       1.535461e+09   33      F   17481615.0   \n",
       "00020e7b18      1.511783e+09       1.515607e+09   73      U   37336195.0   \n",
       "...                      ...                ...  ...    ...          ...   \n",
       "fffe0abb97      1.511773e+09       1.518341e+09   35      F   34601632.0   \n",
       "fffe0ed719      1.505466e+09       1.513090e+09   69      U   39852588.0   \n",
       "fffea1204c      1.517418e+09       1.520874e+09   73      F   32068653.0   \n",
       "fffeca6d22      1.514462e+09       1.552954e+09   77      F     -10800.0   \n",
       "fffff6ce77      1.501792e+09       1.503766e+09   42      U   49177099.0   \n",
       "\n",
       "                  diff  treatment_flg  target  fake_age  transaction_count  \\\n",
       "client_id                                                                    \n",
       "000012768d  13146559.0              0       1         0                  4   \n",
       "000036f903   1118613.0              1       1         0                 32   \n",
       "00010925a5   4492280.0              1       1         0                 18   \n",
       "0001f552b0  36610747.0              1       1         0                 15   \n",
       "00020e7b18   3823700.0              1       1         0                 18   \n",
       "...                ...            ...     ...       ...                ...   \n",
       "fffe0abb97   6568154.0              0       0         0                  9   \n",
       "fffe0ed719   7624608.0              0       1         0                 30   \n",
       "fffea1204c   3456170.0              0       1         0                 17   \n",
       "fffeca6d22  38491427.0              1       0         0                 16   \n",
       "fffff6ce77   1973789.0              0       1         0                 32   \n",
       "\n",
       "                 av_sum  last_transaction  store_count  alc_count  own_count  \\\n",
       "client_id                                                                      \n",
       "000012768d   700.750000      1.552576e+09            3          0          4   \n",
       "000036f903   306.406250      1.552819e+09           14          1         14   \n",
       "00010925a5   326.833333      1.552029e+09            8          1          9   \n",
       "0001f552b0   410.345333      1.552734e+09            7          0         10   \n",
       "00020e7b18  1434.422778      1.552651e+09            7          0         44   \n",
       "...                 ...               ...          ...        ...        ...   \n",
       "fffe0abb97   301.824444      1.552632e+09            5          0          3   \n",
       "fffe0ed719   347.249333      1.552919e+09            2          0         29   \n",
       "fffea1204c   252.771765      1.552478e+09            1          0          0   \n",
       "fffeca6d22   177.053750      1.552661e+09            2          0          1   \n",
       "fffff6ce77   580.018438      1.552672e+09           10         14         43   \n",
       "\n",
       "            transaction_sum  \n",
       "client_id                    \n",
       "000012768d          2803.00  \n",
       "000036f903          9805.00  \n",
       "00010925a5          5883.00  \n",
       "0001f552b0          6155.18  \n",
       "00020e7b18         25819.61  \n",
       "...                     ...  \n",
       "fffe0abb97          2716.42  \n",
       "fffe0ed719         10417.48  \n",
       "fffea1204c          4297.12  \n",
       "fffeca6d22          2832.86  \n",
       "fffff6ce77         18560.59  \n",
       "\n",
       "[200039 rows x 16 columns]"
      ]
     },
     "execution_count": 43,
     "metadata": {},
     "output_type": "execute_result"
    }
   ],
   "source": [
    "data_train_full"
   ]
  },
  {
   "cell_type": "code",
   "execution_count": 44,
   "metadata": {},
   "outputs": [],
   "source": [
    "cat_params = {'learning_rate':0.01, 'max_depth':3, 'task_type':'CPU',\n",
    "              'loss_function':'Logloss', 'eval_metric':'Logloss',\n",
    "               'iterations':20000, 'od_type': \"Iter\", 'od_wait':200\n",
    "}"
   ]
  },
  {
   "cell_type": "code",
   "execution_count": 45,
   "metadata": {},
   "outputs": [],
   "source": [
    "def uplift_at_k(y_true, uplift, treatment, k=0.3):\n",
    "    order = np.argsort(-uplift)\n",
    "    treatment_n = int((treatment == 1).sum() * k)\n",
    "    treatment_p = y_true[order][treatment[order] == 1][:treatment_n].mean()\n",
    "    control_n = int((treatment == 0).sum() * k)\n",
    "    control_p = y_true[order][treatment[order] == 0][:control_n].mean()\n",
    "    score_at_k = treatment_p - control_p\n",
    "    \n",
    "    return score_at_k"
   ]
  },
  {
   "cell_type": "code",
   "execution_count": 46,
   "metadata": {},
   "outputs": [],
   "source": [
    "def trans_train_model(df_X, df_X_test, num_folds=5, random_state=0, verbose=2):\n",
    "\n",
    "    cat_params['random_state'] = random_state\n",
    "    \n",
    "    df_X['new_target'] = (df_X['target'] + df_X['treatment_flg'] + 1) % 2\n",
    "    df_y = df_X[['new_target']]\n",
    "    treatment = df_X['treatment_flg'].to_numpy()\n",
    "    old_target = df_X['target'].to_numpy()\n",
    "    df_X = df_X.drop(['target', 'new_target', 'treatment_flg'], axis=1, errors='ignore')    \n",
    "    \n",
    "    X = df_X.to_numpy()\n",
    "    y = df_y.to_numpy()\n",
    "    X_test = df_X_test.to_numpy()\n",
    "    \n",
    "    folds = StratifiedKFold(n_splits=num_folds, shuffle=True, random_state=random_state)\n",
    "    scores = []\n",
    "    uplift_scores = []    \n",
    "    prediction = np.zeros(len(X_test))\n",
    "\n",
    "    for i, (train_index, valid_index) in enumerate(folds.split(X, y)):    \n",
    "        X_train, X_valid = X[train_index], X[valid_index]\n",
    "        y_train, y_valid = y[train_index], y[valid_index]        \n",
    "        treat_valid = treatment[valid_index]\n",
    "        old_target_vaild = old_target[valid_index]\n",
    "        \n",
    "        f = CatBoostClassifier(**cat_params)\n",
    "        f.fit(X_train, y_train, eval_set=(X_valid, y_valid), use_best_model=True, verbose=False)\n",
    "        \n",
    "    \n",
    "        y_pred_valid = f.predict_proba(X_valid)[:, 1]\n",
    "        score = log_loss(y_valid, y_pred_valid)\n",
    "        uplift_score = uplift_at_k(old_target_vaild, y_pred_valid, treat_valid)\n",
    "        uplift_scores.append(uplift_score)\n",
    "        if (verbose > 1):\n",
    "            print('OOF Uplift score: {0:.5f}'.format(uplift_score))\n",
    "        \n",
    "        scores.append(score)\n",
    "        # predict on test and accumulate the result\n",
    "        y_pred = f.predict_proba(X_test)[:, 1]\n",
    "        prediction += y_pred\n",
    "\n",
    "    # get average prediction from all models\n",
    "    prediction /= num_folds\n",
    "\n",
    "    if (verbose > 0):\n",
    "        print('CV mean score: {0:.5f}, std: {1:.5f}'.format(np.mean(scores), np.std(scores)))    \n",
    "        print('Uplift score @30%: {0:.5f}, std: {1:.5f}'.format(np.mean(uplift_scores), np.std(uplift_scores)))    \n",
    "        \n",
    "    return prediction"
   ]
  },
  {
   "cell_type": "code",
   "execution_count": 53,
   "metadata": {},
   "outputs": [
    {
     "name": "stdout",
     "output_type": "stream",
     "text": [
      "OOF Uplift score: 0.08902\n",
      "OOF Uplift score: 0.07504\n",
      "OOF Uplift score: 0.07946\n",
      "OOF Uplift score: 0.07788\n",
      "OOF Uplift score: 0.07632\n",
      "CV mean score: 0.68868, std: 0.00017\n",
      "Uplift score @30%: 0.07954, std: 0.00496\n"
     ]
    }
   ],
   "source": [
    "pred = trans_train_model(train_full, test,verbose=2)"
   ]
  },
  {
   "cell_type": "code",
   "execution_count": 49,
   "metadata": {},
   "outputs": [
    {
     "name": "stdout",
     "output_type": "stream",
     "text": [
      "OOF Uplift score: 0.08529\n",
      "OOF Uplift score: 0.09015\n",
      "OOF Uplift score: 0.06917\n",
      "OOF Uplift score: 0.08345\n",
      "OOF Uplift score: 0.07923\n",
      "CV mean score: 0.68867, std: 0.00043\n",
      "Uplift score @30%: 0.08146, std: 0.00707\n"
     ]
    }
   ],
   "source": [
    "pred = trans_train_model(train_full, test, random_state=17,verbose=2)"
   ]
  },
  {
   "cell_type": "code",
   "execution_count": 51,
   "metadata": {},
   "outputs": [
    {
     "name": "stdout",
     "output_type": "stream",
     "text": [
      "OOF Uplift score: 0.07887\n",
      "OOF Uplift score: 0.08051\n",
      "OOF Uplift score: 0.07667\n",
      "OOF Uplift score: 0.08457\n",
      "OOF Uplift score: 0.07786\n",
      "CV mean score: 0.68859, std: 0.00016\n",
      "Uplift score @30%: 0.07970, std: 0.00275\n"
     ]
    }
   ],
   "source": [
    "pred = trans_train_model(train_full, test, random_state=29,verbose=2)"
   ]
  },
  {
   "cell_type": "code",
   "execution_count": 54,
   "metadata": {},
   "outputs": [
    {
     "name": "stdout",
     "output_type": "stream",
     "text": [
      "OOF Uplift score: 0.07512\n",
      "OOF Uplift score: 0.08294\n",
      "OOF Uplift score: 0.07797\n",
      "OOF Uplift score: 0.08667\n",
      "OOF Uplift score: 0.07778\n",
      "CV mean score: 0.68862, std: 0.00017\n",
      "Uplift score @30%: 0.08010, std: 0.00415\n"
     ]
    }
   ],
   "source": [
    "pred = trans_train_model(train_full, test, random_state=37,verbose=2)"
   ]
  },
  {
   "cell_type": "code",
   "execution_count": 55,
   "metadata": {},
   "outputs": [],
   "source": [
    "df_submission = pd.DataFrame({'client_id':data_test_full.index,'uplift': pred})\n",
    "df_submission.to_csv('sub_37.csv', index=False)"
   ]
  },
  {
   "cell_type": "code",
   "execution_count": 57,
   "metadata": {},
   "outputs": [
    {
     "data": {
      "text/plain": [
       "Index(['000048b7a6', '000073194a', '00007c7133', '00007f9014', '0000a90cf7',\n",
       "       '0000b59cec', '0000bb4e4e', '0000bcec9c', '0000eecb82', '0000f0ecdb',\n",
       "       ...\n",
       "       'fffb310977', 'fffbfc9346', 'fffc68800d', 'fffc6fd3ea', 'fffde49bc6',\n",
       "       'fffeacbe3e', 'fffece623e', 'ffff3dfff8', 'ffffaab9da', 'ffffeb5619'],\n",
       "      dtype='object', name='client_id', length=200123)"
      ]
     },
     "execution_count": 57,
     "metadata": {},
     "output_type": "execute_result"
    }
   ],
   "source": [
    "data_test_full.index"
   ]
  },
  {
   "cell_type": "code",
   "execution_count": null,
   "metadata": {},
   "outputs": [],
   "source": []
  },
  {
   "cell_type": "code",
   "execution_count": 137,
   "metadata": {},
   "outputs": [],
   "source": [
    "sol1.index = sol1['client_id']\n",
    "del sol1['client_id']"
   ]
  },
  {
   "cell_type": "code",
   "execution_count": 138,
   "metadata": {},
   "outputs": [
    {
     "data": {
      "text/html": [
       "<div>\n",
       "<style scoped>\n",
       "    .dataframe tbody tr th:only-of-type {\n",
       "        vertical-align: middle;\n",
       "    }\n",
       "\n",
       "    .dataframe tbody tr th {\n",
       "        vertical-align: top;\n",
       "    }\n",
       "\n",
       "    .dataframe thead th {\n",
       "        text-align: right;\n",
       "    }\n",
       "</style>\n",
       "<table border=\"1\" class=\"dataframe\">\n",
       "  <thead>\n",
       "    <tr style=\"text-align: right;\">\n",
       "      <th></th>\n",
       "      <th>uplift</th>\n",
       "    </tr>\n",
       "    <tr>\n",
       "      <th>client_id</th>\n",
       "      <th></th>\n",
       "    </tr>\n",
       "  </thead>\n",
       "  <tbody>\n",
       "    <tr>\n",
       "      <th>000048b7a6</th>\n",
       "      <td>0.056886</td>\n",
       "    </tr>\n",
       "    <tr>\n",
       "      <th>000073194a</th>\n",
       "      <td>0.037388</td>\n",
       "    </tr>\n",
       "    <tr>\n",
       "      <th>00007c7133</th>\n",
       "      <td>0.038690</td>\n",
       "    </tr>\n",
       "    <tr>\n",
       "      <th>00007f9014</th>\n",
       "      <td>0.017279</td>\n",
       "    </tr>\n",
       "    <tr>\n",
       "      <th>0000a90cf7</th>\n",
       "      <td>0.015631</td>\n",
       "    </tr>\n",
       "    <tr>\n",
       "      <th>...</th>\n",
       "      <td>...</td>\n",
       "    </tr>\n",
       "    <tr>\n",
       "      <th>fffeacbe3e</th>\n",
       "      <td>0.033306</td>\n",
       "    </tr>\n",
       "    <tr>\n",
       "      <th>fffece623e</th>\n",
       "      <td>0.035032</td>\n",
       "    </tr>\n",
       "    <tr>\n",
       "      <th>ffff3dfff8</th>\n",
       "      <td>0.052328</td>\n",
       "    </tr>\n",
       "    <tr>\n",
       "      <th>ffffaab9da</th>\n",
       "      <td>0.021083</td>\n",
       "    </tr>\n",
       "    <tr>\n",
       "      <th>ffffeb5619</th>\n",
       "      <td>0.064051</td>\n",
       "    </tr>\n",
       "  </tbody>\n",
       "</table>\n",
       "<p>200123 rows × 1 columns</p>\n",
       "</div>"
      ],
      "text/plain": [
       "              uplift\n",
       "client_id           \n",
       "000048b7a6  0.056886\n",
       "000073194a  0.037388\n",
       "00007c7133  0.038690\n",
       "00007f9014  0.017279\n",
       "0000a90cf7  0.015631\n",
       "...              ...\n",
       "fffeacbe3e  0.033306\n",
       "fffece623e  0.035032\n",
       "ffff3dfff8  0.052328\n",
       "ffffaab9da  0.021083\n",
       "ffffeb5619  0.064051\n",
       "\n",
       "[200123 rows x 1 columns]"
      ]
     },
     "execution_count": 138,
     "metadata": {},
     "output_type": "execute_result"
    }
   ],
   "source": [
    "sol1"
   ]
  },
  {
   "cell_type": "code",
   "execution_count": 139,
   "metadata": {},
   "outputs": [],
   "source": [
    "sol1.to_csv('sol2.csv')"
   ]
  },
  {
   "cell_type": "code",
   "execution_count": 113,
   "metadata": {},
   "outputs": [],
   "source": [
    "from catboost import CatBoostClassifier"
   ]
  },
  {
   "cell_type": "code",
   "execution_count": 133,
   "metadata": {},
   "outputs": [
    {
     "data": {
      "text/plain": [
       "<catboost.core.CatBoostClassifier at 0x7f78b37a64e0>"
      ]
     },
     "execution_count": 133,
     "metadata": {},
     "output_type": "execute_result"
    }
   ],
   "source": [
    "cbc = CatBoostClassifier(thread_count=2, random_state=17, silent=True)\n",
    "cbc.fit(train,data_train['target'])"
   ]
  },
  {
   "cell_type": "code",
   "execution_count": 134,
   "metadata": {},
   "outputs": [],
   "source": [
    "preds1 = [i[1] for i in cbc.predict_proba(test1)]\n",
    "preds0 = [i[1] for i in cbc.predict_proba(test0)]"
   ]
  },
  {
   "cell_type": "code",
   "execution_count": null,
   "metadata": {},
   "outputs": [],
   "source": []
  },
  {
   "cell_type": "code",
   "execution_count": null,
   "metadata": {},
   "outputs": [],
   "source": []
  },
  {
   "cell_type": "code",
   "execution_count": null,
   "metadata": {},
   "outputs": [],
   "source": []
  }
 ],
 "metadata": {
  "kernelspec": {
   "display_name": "Python 3",
   "language": "python",
   "name": "python3"
  },
  "language_info": {
   "codemirror_mode": {
    "name": "ipython",
    "version": 3
   },
   "file_extension": ".py",
   "mimetype": "text/x-python",
   "name": "python",
   "nbconvert_exporter": "python",
   "pygments_lexer": "ipython3",
   "version": "3.6.10"
  }
 },
 "nbformat": 4,
 "nbformat_minor": 2
}
