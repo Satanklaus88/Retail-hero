{
 "cells": [
  {
   "cell_type": "code",
   "execution_count": 50,
   "metadata": {},
   "outputs": [
    {
     "name": "stdout",
     "output_type": "stream",
     "text": [
      "Populating the interactive namespace from numpy and matplotlib\n"
     ]
    }
   ],
   "source": [
    "import numpy as np\n",
    "import pandas as pd\n",
    "from sklearn.model_selection import train_test_split, cross_val_score, GridSearchCV, TimeSeriesSplit\n",
    "from sklearn.linear_model import SGDClassifier, LogisticRegression\n",
    "from sklearn.metrics import roc_auc_score\n",
    "from tqdm import tqdm\n",
    "from sklearn.preprocessing import  OneHotEncoder,StandardScaler\n",
    "import pandas_profiling\n",
    "import datetime\n",
    "%pylab inline\n",
    "warnings.filterwarnings('ignore')"
   ]
  },
  {
   "cell_type": "code",
   "execution_count": 2,
   "metadata": {},
   "outputs": [],
   "source": [
    "df = pd.read_csv('data/uplift_train.csv')\n",
    "df1 = pd.read_csv('data/clients.csv')\n",
    "df2 = pd.read_csv('data/products.csv')\n",
    "test = pd.read_csv('data/uplift_test.csv')"
   ]
  },
  {
   "cell_type": "code",
   "execution_count": 3,
   "metadata": {},
   "outputs": [
    {
     "data": {
      "text/html": [
       "<div>\n",
       "<style scoped>\n",
       "    .dataframe tbody tr th:only-of-type {\n",
       "        vertical-align: middle;\n",
       "    }\n",
       "\n",
       "    .dataframe tbody tr th {\n",
       "        vertical-align: top;\n",
       "    }\n",
       "\n",
       "    .dataframe thead th {\n",
       "        text-align: right;\n",
       "    }\n",
       "</style>\n",
       "<table border=\"1\" class=\"dataframe\">\n",
       "  <thead>\n",
       "    <tr style=\"text-align: right;\">\n",
       "      <th></th>\n",
       "      <th>client_id</th>\n",
       "      <th>first_issue_date</th>\n",
       "      <th>first_redeem_date</th>\n",
       "      <th>age</th>\n",
       "      <th>gender</th>\n",
       "      <th>treatment_flg</th>\n",
       "      <th>target</th>\n",
       "    </tr>\n",
       "  </thead>\n",
       "  <tbody>\n",
       "    <tr>\n",
       "      <th>0</th>\n",
       "      <td>000012768d</td>\n",
       "      <td>2017-08-05 15:40:48</td>\n",
       "      <td>2018-01-04 19:30:07</td>\n",
       "      <td>45</td>\n",
       "      <td>U</td>\n",
       "      <td>0</td>\n",
       "      <td>1</td>\n",
       "    </tr>\n",
       "    <tr>\n",
       "      <th>1</th>\n",
       "      <td>000036f903</td>\n",
       "      <td>2017-04-10 13:54:23</td>\n",
       "      <td>2017-04-23 12:37:56</td>\n",
       "      <td>72</td>\n",
       "      <td>F</td>\n",
       "      <td>1</td>\n",
       "      <td>1</td>\n",
       "    </tr>\n",
       "    <tr>\n",
       "      <th>2</th>\n",
       "      <td>00010925a5</td>\n",
       "      <td>2018-07-24 16:21:29</td>\n",
       "      <td>2018-09-14 16:12:49</td>\n",
       "      <td>83</td>\n",
       "      <td>U</td>\n",
       "      <td>1</td>\n",
       "      <td>1</td>\n",
       "    </tr>\n",
       "    <tr>\n",
       "      <th>3</th>\n",
       "      <td>0001f552b0</td>\n",
       "      <td>2017-06-30 19:20:38</td>\n",
       "      <td>2018-08-28 12:59:45</td>\n",
       "      <td>33</td>\n",
       "      <td>F</td>\n",
       "      <td>1</td>\n",
       "      <td>1</td>\n",
       "    </tr>\n",
       "    <tr>\n",
       "      <th>4</th>\n",
       "      <td>00020e7b18</td>\n",
       "      <td>2017-11-27 11:41:45</td>\n",
       "      <td>2018-01-10 17:50:05</td>\n",
       "      <td>73</td>\n",
       "      <td>U</td>\n",
       "      <td>1</td>\n",
       "      <td>1</td>\n",
       "    </tr>\n",
       "    <tr>\n",
       "      <th>...</th>\n",
       "      <td>...</td>\n",
       "      <td>...</td>\n",
       "      <td>...</td>\n",
       "      <td>...</td>\n",
       "      <td>...</td>\n",
       "      <td>...</td>\n",
       "      <td>...</td>\n",
       "    </tr>\n",
       "    <tr>\n",
       "      <th>200034</th>\n",
       "      <td>fffe0abb97</td>\n",
       "      <td>2017-11-27 08:56:54</td>\n",
       "      <td>2018-02-11 09:26:08</td>\n",
       "      <td>35</td>\n",
       "      <td>F</td>\n",
       "      <td>0</td>\n",
       "      <td>0</td>\n",
       "    </tr>\n",
       "    <tr>\n",
       "      <th>200035</th>\n",
       "      <td>fffe0ed719</td>\n",
       "      <td>2017-09-15 08:53:24</td>\n",
       "      <td>2017-12-12 14:50:12</td>\n",
       "      <td>69</td>\n",
       "      <td>U</td>\n",
       "      <td>0</td>\n",
       "      <td>1</td>\n",
       "    </tr>\n",
       "    <tr>\n",
       "      <th>200036</th>\n",
       "      <td>fffea1204c</td>\n",
       "      <td>2018-01-31 16:59:37</td>\n",
       "      <td>2018-03-12 17:02:27</td>\n",
       "      <td>73</td>\n",
       "      <td>F</td>\n",
       "      <td>0</td>\n",
       "      <td>1</td>\n",
       "    </tr>\n",
       "    <tr>\n",
       "      <th>200037</th>\n",
       "      <td>fffeca6d22</td>\n",
       "      <td>2017-12-28 11:56:13</td>\n",
       "      <td>2017-12-28 11:56:13</td>\n",
       "      <td>77</td>\n",
       "      <td>F</td>\n",
       "      <td>1</td>\n",
       "      <td>0</td>\n",
       "    </tr>\n",
       "    <tr>\n",
       "      <th>200038</th>\n",
       "      <td>fffff6ce77</td>\n",
       "      <td>2017-08-03 20:25:12</td>\n",
       "      <td>2017-08-26 16:41:41</td>\n",
       "      <td>42</td>\n",
       "      <td>U</td>\n",
       "      <td>0</td>\n",
       "      <td>1</td>\n",
       "    </tr>\n",
       "  </tbody>\n",
       "</table>\n",
       "<p>200039 rows × 7 columns</p>\n",
       "</div>"
      ],
      "text/plain": [
       "         client_id     first_issue_date    first_redeem_date  age gender  \\\n",
       "0       000012768d  2017-08-05 15:40:48  2018-01-04 19:30:07   45      U   \n",
       "1       000036f903  2017-04-10 13:54:23  2017-04-23 12:37:56   72      F   \n",
       "2       00010925a5  2018-07-24 16:21:29  2018-09-14 16:12:49   83      U   \n",
       "3       0001f552b0  2017-06-30 19:20:38  2018-08-28 12:59:45   33      F   \n",
       "4       00020e7b18  2017-11-27 11:41:45  2018-01-10 17:50:05   73      U   \n",
       "...            ...                  ...                  ...  ...    ...   \n",
       "200034  fffe0abb97  2017-11-27 08:56:54  2018-02-11 09:26:08   35      F   \n",
       "200035  fffe0ed719  2017-09-15 08:53:24  2017-12-12 14:50:12   69      U   \n",
       "200036  fffea1204c  2018-01-31 16:59:37  2018-03-12 17:02:27   73      F   \n",
       "200037  fffeca6d22  2017-12-28 11:56:13  2017-12-28 11:56:13   77      F   \n",
       "200038  fffff6ce77  2017-08-03 20:25:12  2017-08-26 16:41:41   42      U   \n",
       "\n",
       "        treatment_flg  target  \n",
       "0                   0       1  \n",
       "1                   1       1  \n",
       "2                   1       1  \n",
       "3                   1       1  \n",
       "4                   1       1  \n",
       "...               ...     ...  \n",
       "200034              0       0  \n",
       "200035              0       1  \n",
       "200036              0       1  \n",
       "200037              1       0  \n",
       "200038              0       1  \n",
       "\n",
       "[200039 rows x 7 columns]"
      ]
     },
     "execution_count": 3,
     "metadata": {},
     "output_type": "execute_result"
    }
   ],
   "source": [
    "data_train = pd.merge(df1,df)\n",
    "miss = data_train[data_train['first_redeem_date'].isna()]\n",
    "miss['first_redeem_date']=miss['first_issue_date']\n",
    "data_train.first_redeem_date[miss.index]=miss.first_redeem_date.values\n",
    "data_train"
   ]
  },
  {
   "cell_type": "code",
   "execution_count": 4,
   "metadata": {},
   "outputs": [
    {
     "data": {
      "text/html": [
       "<div>\n",
       "<style scoped>\n",
       "    .dataframe tbody tr th:only-of-type {\n",
       "        vertical-align: middle;\n",
       "    }\n",
       "\n",
       "    .dataframe tbody tr th {\n",
       "        vertical-align: top;\n",
       "    }\n",
       "\n",
       "    .dataframe thead th {\n",
       "        text-align: right;\n",
       "    }\n",
       "</style>\n",
       "<table border=\"1\" class=\"dataframe\">\n",
       "  <thead>\n",
       "    <tr style=\"text-align: right;\">\n",
       "      <th></th>\n",
       "      <th>client_id</th>\n",
       "      <th>first_issue_date</th>\n",
       "      <th>first_redeem_date</th>\n",
       "      <th>age</th>\n",
       "      <th>gender</th>\n",
       "    </tr>\n",
       "  </thead>\n",
       "  <tbody>\n",
       "    <tr>\n",
       "      <th>0</th>\n",
       "      <td>000048b7a6</td>\n",
       "      <td>2018-12-15 13:33:11</td>\n",
       "      <td>2018-12-15 13:33:11</td>\n",
       "      <td>68</td>\n",
       "      <td>F</td>\n",
       "    </tr>\n",
       "    <tr>\n",
       "      <th>1</th>\n",
       "      <td>000073194a</td>\n",
       "      <td>2017-05-23 12:56:14</td>\n",
       "      <td>2017-11-24 11:18:01</td>\n",
       "      <td>60</td>\n",
       "      <td>F</td>\n",
       "    </tr>\n",
       "    <tr>\n",
       "      <th>2</th>\n",
       "      <td>00007c7133</td>\n",
       "      <td>2017-05-22 16:17:08</td>\n",
       "      <td>2018-12-31 17:17:33</td>\n",
       "      <td>67</td>\n",
       "      <td>U</td>\n",
       "    </tr>\n",
       "    <tr>\n",
       "      <th>3</th>\n",
       "      <td>00007f9014</td>\n",
       "      <td>2017-08-22 13:35:01</td>\n",
       "      <td>2019-02-15 19:19:18</td>\n",
       "      <td>45</td>\n",
       "      <td>F</td>\n",
       "    </tr>\n",
       "    <tr>\n",
       "      <th>4</th>\n",
       "      <td>0000a90cf7</td>\n",
       "      <td>2017-05-20 12:34:50</td>\n",
       "      <td>2017-07-08 12:48:22</td>\n",
       "      <td>45</td>\n",
       "      <td>U</td>\n",
       "    </tr>\n",
       "    <tr>\n",
       "      <th>...</th>\n",
       "      <td>...</td>\n",
       "      <td>...</td>\n",
       "      <td>...</td>\n",
       "      <td>...</td>\n",
       "      <td>...</td>\n",
       "    </tr>\n",
       "    <tr>\n",
       "      <th>200118</th>\n",
       "      <td>fffeacbe3e</td>\n",
       "      <td>2017-07-19 08:38:17</td>\n",
       "      <td>2017-10-13 10:59:14</td>\n",
       "      <td>47</td>\n",
       "      <td>F</td>\n",
       "    </tr>\n",
       "    <tr>\n",
       "      <th>200119</th>\n",
       "      <td>fffece623e</td>\n",
       "      <td>2018-05-13 15:09:30</td>\n",
       "      <td>2018-12-27 19:06:39</td>\n",
       "      <td>67</td>\n",
       "      <td>U</td>\n",
       "    </tr>\n",
       "    <tr>\n",
       "      <th>200120</th>\n",
       "      <td>ffff3dfff8</td>\n",
       "      <td>2018-11-01 16:06:52</td>\n",
       "      <td>2018-12-07 17:33:47</td>\n",
       "      <td>56</td>\n",
       "      <td>F</td>\n",
       "    </tr>\n",
       "    <tr>\n",
       "      <th>200121</th>\n",
       "      <td>ffffaab9da</td>\n",
       "      <td>2017-08-25 18:43:24</td>\n",
       "      <td>2017-12-08 17:53:19</td>\n",
       "      <td>23</td>\n",
       "      <td>F</td>\n",
       "    </tr>\n",
       "    <tr>\n",
       "      <th>200122</th>\n",
       "      <td>ffffeb5619</td>\n",
       "      <td>2017-12-05 13:26:28</td>\n",
       "      <td>2017-12-05 13:26:28</td>\n",
       "      <td>62</td>\n",
       "      <td>U</td>\n",
       "    </tr>\n",
       "  </tbody>\n",
       "</table>\n",
       "<p>200123 rows × 5 columns</p>\n",
       "</div>"
      ],
      "text/plain": [
       "         client_id     first_issue_date    first_redeem_date  age gender\n",
       "0       000048b7a6  2018-12-15 13:33:11  2018-12-15 13:33:11   68      F\n",
       "1       000073194a  2017-05-23 12:56:14  2017-11-24 11:18:01   60      F\n",
       "2       00007c7133  2017-05-22 16:17:08  2018-12-31 17:17:33   67      U\n",
       "3       00007f9014  2017-08-22 13:35:01  2019-02-15 19:19:18   45      F\n",
       "4       0000a90cf7  2017-05-20 12:34:50  2017-07-08 12:48:22   45      U\n",
       "...            ...                  ...                  ...  ...    ...\n",
       "200118  fffeacbe3e  2017-07-19 08:38:17  2017-10-13 10:59:14   47      F\n",
       "200119  fffece623e  2018-05-13 15:09:30  2018-12-27 19:06:39   67      U\n",
       "200120  ffff3dfff8  2018-11-01 16:06:52  2018-12-07 17:33:47   56      F\n",
       "200121  ffffaab9da  2017-08-25 18:43:24  2017-12-08 17:53:19   23      F\n",
       "200122  ffffeb5619  2017-12-05 13:26:28  2017-12-05 13:26:28   62      U\n",
       "\n",
       "[200123 rows x 5 columns]"
      ]
     },
     "execution_count": 4,
     "metadata": {},
     "output_type": "execute_result"
    }
   ],
   "source": [
    "data_test=pd.merge(df1,test)\n",
    "miss = data_test[data_test['first_redeem_date'].isna()]\n",
    "miss['first_redeem_date']=miss['first_issue_date']\n",
    "data_test.first_redeem_date[miss.index]=miss.first_redeem_date.values\n",
    "data_test"
   ]
  },
  {
   "cell_type": "code",
   "execution_count": 5,
   "metadata": {},
   "outputs": [],
   "source": [
    "data_train['first_issue_date']=pd.to_datetime(data_train['first_issue_date'])\n",
    "data_train['first_redeem_date']=pd.to_datetime(data_train['first_redeem_date'])\n",
    "data_test['first_issue_date']=pd.to_datetime(data_test['first_issue_date'])\n",
    "data_test['first_redeem_date']=pd.to_datetime(data_test['first_redeem_date'])"
   ]
  },
  {
   "cell_type": "code",
   "execution_count": 29,
   "metadata": {},
   "outputs": [
    {
     "name": "stdout",
     "output_type": "stream",
     "text": [
      "<class 'pandas.core.frame.DataFrame'>\n",
      "Int64Index: 200039 entries, 0 to 200038\n",
      "Data columns (total 8 columns):\n",
      "client_id            200039 non-null object\n",
      "first_issue_date     200039 non-null float64\n",
      "first_redeem_date    200039 non-null float64\n",
      "age                  200039 non-null int64\n",
      "gender               200039 non-null object\n",
      "treatment_flg        200039 non-null int64\n",
      "target               200039 non-null int64\n",
      "fake_age             200039 non-null int64\n",
      "dtypes: float64(2), int64(4), object(2)\n",
      "memory usage: 18.7+ MB\n"
     ]
    }
   ],
   "source": [
    "data_train.info()"
   ]
  },
  {
   "cell_type": "code",
   "execution_count": 7,
   "metadata": {},
   "outputs": [],
   "source": [
    "data_train['fake_age'] = data_train['age'].apply(lambda x:int((x>90)or(x<16)))\n",
    "data_test['fake_age'] = data_test['age'].apply(lambda x:int((x>90)or(x<16)))"
   ]
  },
  {
   "cell_type": "code",
   "execution_count": 8,
   "metadata": {},
   "outputs": [],
   "source": [
    "data_train['first_issue_date'] = data_train['first_issue_date'].apply(lambda x: x.timestamp())\n",
    "data_train['first_redeem_date'] = data_train['first_redeem_date'].apply(lambda x: x.timestamp())\n",
    "data_test['first_issue_date'] = data_test['first_issue_date'].apply(lambda x: x.timestamp())\n",
    "data_test['first_redeem_date'] = data_test['first_redeem_date'].apply(lambda x: x.timestamp())"
   ]
  },
  {
   "cell_type": "code",
   "execution_count": 9,
   "metadata": {},
   "outputs": [],
   "source": [
    "purch = pd.read_csv('data/purchases.csv',parse_dates=['transaction_datetime'])"
   ]
  },
  {
   "cell_type": "code",
   "execution_count": 10,
   "metadata": {},
   "outputs": [],
   "source": [
    "user_id = purch.drop_duplicates('client_id').client_id.values"
   ]
  },
  {
   "cell_type": "code",
   "execution_count": 11,
   "metadata": {},
   "outputs": [],
   "source": [
    "transactions = purch.drop_duplicates('transaction_id')"
   ]
  },
  {
   "cell_type": "code",
   "execution_count": 12,
   "metadata": {},
   "outputs": [],
   "source": [
    "transactions['transaction_datetime'] = transactions['transaction_datetime'].apply(lambda x: x.timestamp())"
   ]
  },
  {
   "cell_type": "code",
   "execution_count": 13,
   "metadata": {},
   "outputs": [],
   "source": [
    "#число покупок\n",
    "a = transactions[['client_id','transaction_id']].values\n",
    "pok=[]\n",
    "user=''\n",
    "count=0\n",
    "for row in a:\n",
    "    if row[0]!=user:\n",
    "        pok.append(count)\n",
    "        user =row[0]\n",
    "        count=1\n",
    "    else:\n",
    "        count+=1\n",
    "pokupki = pok[1:]\n",
    "pokupki.append(count)"
   ]
  },
  {
   "cell_type": "code",
   "execution_count": 14,
   "metadata": {},
   "outputs": [],
   "source": [
    "#даты последних покупок\n",
    "dates = purch.drop_duplicates('client_id',keep='last').transaction_datetime.values"
   ]
  },
  {
   "cell_type": "code",
   "execution_count": 15,
   "metadata": {},
   "outputs": [],
   "source": [
    "#число магазинов\n",
    "b = transactions[['client_id','store_id']].values\n",
    "store=[]\n",
    "user=''\n",
    "count=0\n",
    "for row in b:\n",
    "    if row[0]!=user:\n",
    "        store.append(count)\n",
    "        user =row[0]\n",
    "        count=1\n",
    "        last_store = row[1]\n",
    "    else:\n",
    "        if row[1]!=last_store:\n",
    "            count+=1\n",
    "            last_store = row[1]\n",
    "stores = store[1:]\n",
    "stores.append(count)"
   ]
  },
  {
   "cell_type": "code",
   "execution_count": 16,
   "metadata": {},
   "outputs": [],
   "source": [
    "#cредняя сумма покупки\n",
    "c = transactions[['client_id','purchase_sum']].values\n",
    "avsum=[]\n",
    "user=''\n",
    "count=1\n",
    "sred=0\n",
    "for row in c:\n",
    "    if row[0]!=user:\n",
    "        avsum.append(sred/count)\n",
    "        user =row[0]\n",
    "        count=1\n",
    "        sred=row[1]\n",
    "    else:\n",
    "        count+=1\n",
    "        sred+=row[1]\n",
    "average = avsum[1:]\n",
    "average.append(sred/count)"
   ]
  },
  {
   "cell_type": "code",
   "execution_count": 17,
   "metadata": {},
   "outputs": [],
   "source": [
    "produkti = purch.product_id.values\n",
    "useri = purch.client_id.values"
   ]
  },
  {
   "cell_type": "code",
   "execution_count": 18,
   "metadata": {},
   "outputs": [],
   "source": [
    "alcohol = set(df2[df2['is_alcohol']==1].product_id.values)\n",
    "owner = set(df2[df2['is_own_trademark']==1].product_id.values)"
   ]
  },
  {
   "cell_type": "code",
   "execution_count": 19,
   "metadata": {},
   "outputs": [],
   "source": [
    "alc = lambda x: int(x in alcohol)\n",
    "is_alc = [alc(i) for i in produkti]\n",
    "own = lambda x: int(x in owner)\n",
    "is_own = [own(i) for i in produkti]"
   ]
  },
  {
   "cell_type": "code",
   "execution_count": 20,
   "metadata": {},
   "outputs": [],
   "source": [
    "purch['product_is_alco']=is_alc\n",
    "purch['product_is_own']=is_own"
   ]
  },
  {
   "cell_type": "code",
   "execution_count": 21,
   "metadata": {},
   "outputs": [],
   "source": [
    "#число купленного алкоголя и собственной торговой марки\n",
    "a = transactions[['client_id','transaction_id']].values\n",
    "alc_count=[]\n",
    "own_count=[]\n",
    "user=''\n",
    "count_alc=0\n",
    "count_own=0\n",
    "for i in range(len(useri)):\n",
    "    if useri[i]!=user:\n",
    "        alc_count.append(count_alc)\n",
    "        own_count.append(count_own)\n",
    "        user =useri[i]\n",
    "        count_alc=is_alc[i]\n",
    "        count_own=is_own[i]\n",
    "    else:\n",
    "        count_alc+=is_alc[i]\n",
    "        count_own+=is_own[i]\n",
    "alc_count = alc_count[1:]\n",
    "own_count = own_count[1:]\n",
    "alc_count.append(count_alc)\n",
    "own_count.append(count_own)"
   ]
  },
  {
   "cell_type": "code",
   "execution_count": 25,
   "metadata": {},
   "outputs": [],
   "source": [
    "new_features = pd.DataFrame({'client_id':user_id,'transaction_count':pokupki,'av_sum':average,\n",
    "                             'last_transaction':dates,'store_count':stores,\n",
    "                             'alc_count':alc_count,'own_count':own_count})"
   ]
  },
  {
   "cell_type": "code",
   "execution_count": 30,
   "metadata": {},
   "outputs": [],
   "source": [
    "new_features['last_transaction'] = new_features['last_transaction'].apply(lambda x: x.timestamp())"
   ]
  },
  {
   "cell_type": "code",
   "execution_count": 33,
   "metadata": {},
   "outputs": [],
   "source": [
    "data_train_full = pd.merge(data_train,new_features)\n",
    "data_test_full = pd.merge(data_test,new_features)"
   ]
  },
  {
   "cell_type": "code",
   "execution_count": 38,
   "metadata": {},
   "outputs": [],
   "source": [
    "data_train_full.index=data_train_full['client_id']\n",
    "del data_train_full['client_id']"
   ]
  },
  {
   "cell_type": "code",
   "execution_count": 40,
   "metadata": {},
   "outputs": [],
   "source": [
    "data_test_full.index=data_test_full['client_id']\n",
    "del data_test_full['client_id']"
   ]
  },
  {
   "cell_type": "code",
   "execution_count": 45,
   "metadata": {},
   "outputs": [],
   "source": [
    "X = data_train_full.drop(['target'],axis='columns')"
   ]
  },
  {
   "cell_type": "code",
   "execution_count": 46,
   "metadata": {},
   "outputs": [
    {
     "data": {
      "text/plain": [
       "Index(['first_issue_date', 'first_redeem_date', 'age', 'gender',\n",
       "       'treatment_flg', 'fake_age', 'transaction_count', 'av_sum',\n",
       "       'last_transaction', 'store_count', 'alc_count', 'own_count'],\n",
       "      dtype='object')"
      ]
     },
     "execution_count": 46,
     "metadata": {},
     "output_type": "execute_result"
    }
   ],
   "source": [
    "X.columns"
   ]
  },
  {
   "cell_type": "code",
   "execution_count": 64,
   "metadata": {},
   "outputs": [],
   "source": [
    "Cat_cols = ['gender','fake_age']\n",
    "Num_cols = ['first_issue_date', 'first_redeem_date', 'age','transaction_count', 'av_sum',\n",
    "       'last_transaction', 'store_count', 'alc_count', 'own_count']"
   ]
  },
  {
   "cell_type": "code",
   "execution_count": 54,
   "metadata": {},
   "outputs": [],
   "source": [
    "enc = OneHotEncoder(sparse=False)\n",
    "scaler = StandardScaler()"
   ]
  },
  {
   "cell_type": "code",
   "execution_count": 55,
   "metadata": {},
   "outputs": [],
   "source": [
    "X_cat_encoded = pd.DataFrame(enc.fit_transform(X[Cat_cols]))"
   ]
  },
  {
   "cell_type": "code",
   "execution_count": 116,
   "metadata": {},
   "outputs": [],
   "source": [
    "X_num_scaled = pd.DataFrame(scaler.fit_transform(X[Num_cols]),columns=Num_cols)"
   ]
  },
  {
   "cell_type": "code",
   "execution_count": 66,
   "metadata": {},
   "outputs": [],
   "source": [
    "Test_cat = pd.DataFrame(enc.fit_transform(data_test_full[Cat_cols]))"
   ]
  },
  {
   "cell_type": "code",
   "execution_count": 118,
   "metadata": {},
   "outputs": [],
   "source": [
    "Test_num =  pd.DataFrame(scaler.fit_transform(data_test_full[Num_cols]),columns=Num_cols)"
   ]
  },
  {
   "cell_type": "code",
   "execution_count": 119,
   "metadata": {},
   "outputs": [],
   "source": [
    "test = pd.concat([Test_cat,Test_num],axis=1)"
   ]
  },
  {
   "cell_type": "code",
   "execution_count": 120,
   "metadata": {},
   "outputs": [],
   "source": [
    "train =pd.concat([X_cat_encoded,X_num_scaled,data_train['treatment_flg']],axis=1)"
   ]
  },
  {
   "cell_type": "code",
   "execution_count": 121,
   "metadata": {},
   "outputs": [
    {
     "data": {
      "text/html": [
       "<div>\n",
       "<style scoped>\n",
       "    .dataframe tbody tr th:only-of-type {\n",
       "        vertical-align: middle;\n",
       "    }\n",
       "\n",
       "    .dataframe tbody tr th {\n",
       "        vertical-align: top;\n",
       "    }\n",
       "\n",
       "    .dataframe thead th {\n",
       "        text-align: right;\n",
       "    }\n",
       "</style>\n",
       "<table border=\"1\" class=\"dataframe\">\n",
       "  <thead>\n",
       "    <tr style=\"text-align: right;\">\n",
       "      <th></th>\n",
       "      <th>0</th>\n",
       "      <th>1</th>\n",
       "      <th>2</th>\n",
       "      <th>3</th>\n",
       "      <th>4</th>\n",
       "      <th>first_issue_date</th>\n",
       "      <th>first_redeem_date</th>\n",
       "      <th>age</th>\n",
       "      <th>transaction_count</th>\n",
       "      <th>av_sum</th>\n",
       "      <th>last_transaction</th>\n",
       "      <th>store_count</th>\n",
       "      <th>alc_count</th>\n",
       "      <th>own_count</th>\n",
       "      <th>treatment_flg</th>\n",
       "    </tr>\n",
       "  </thead>\n",
       "  <tbody>\n",
       "    <tr>\n",
       "      <th>0</th>\n",
       "      <td>0.0</td>\n",
       "      <td>0.0</td>\n",
       "      <td>1.0</td>\n",
       "      <td>1.0</td>\n",
       "      <td>0.0</td>\n",
       "      <td>-0.769766</td>\n",
       "      <td>-0.774467</td>\n",
       "      <td>-0.028614</td>\n",
       "      <td>-0.909133</td>\n",
       "      <td>0.547241</td>\n",
       "      <td>0.342095</td>\n",
       "      <td>-0.511549</td>\n",
       "      <td>-0.373913</td>\n",
       "      <td>-0.701854</td>\n",
       "      <td>0</td>\n",
       "    </tr>\n",
       "    <tr>\n",
       "      <th>1</th>\n",
       "      <td>1.0</td>\n",
       "      <td>0.0</td>\n",
       "      <td>0.0</td>\n",
       "      <td>1.0</td>\n",
       "      <td>0.0</td>\n",
       "      <td>-1.344655</td>\n",
       "      <td>-1.946878</td>\n",
       "      <td>0.516484</td>\n",
       "      <td>0.669933</td>\n",
       "      <td>-0.505615</td>\n",
       "      <td>0.837526</td>\n",
       "      <td>0.816155</td>\n",
       "      <td>-0.178855</td>\n",
       "      <td>-0.179371</td>\n",
       "      <td>1</td>\n",
       "    </tr>\n",
       "    <tr>\n",
       "      <th>2</th>\n",
       "      <td>0.0</td>\n",
       "      <td>0.0</td>\n",
       "      <td>1.0</td>\n",
       "      <td>1.0</td>\n",
       "      <td>0.0</td>\n",
       "      <td>0.963771</td>\n",
       "      <td>0.382284</td>\n",
       "      <td>0.738561</td>\n",
       "      <td>-0.119600</td>\n",
       "      <td>-0.451077</td>\n",
       "      <td>-0.773153</td>\n",
       "      <td>0.091953</td>\n",
       "      <td>-0.178855</td>\n",
       "      <td>-0.440613</td>\n",
       "      <td>1</td>\n",
       "    </tr>\n",
       "    <tr>\n",
       "      <th>3</th>\n",
       "      <td>1.0</td>\n",
       "      <td>0.0</td>\n",
       "      <td>0.0</td>\n",
       "      <td>1.0</td>\n",
       "      <td>0.0</td>\n",
       "      <td>-0.945794</td>\n",
       "      <td>0.303902</td>\n",
       "      <td>-0.270880</td>\n",
       "      <td>-0.288786</td>\n",
       "      <td>-0.228108</td>\n",
       "      <td>0.664267</td>\n",
       "      <td>-0.028748</td>\n",
       "      <td>-0.373913</td>\n",
       "      <td>-0.388364</td>\n",
       "      <td>1</td>\n",
       "    </tr>\n",
       "    <tr>\n",
       "      <th>4</th>\n",
       "      <td>0.0</td>\n",
       "      <td>0.0</td>\n",
       "      <td>1.0</td>\n",
       "      <td>1.0</td>\n",
       "      <td>0.0</td>\n",
       "      <td>-0.210787</td>\n",
       "      <td>-0.747337</td>\n",
       "      <td>0.536673</td>\n",
       "      <td>-0.119600</td>\n",
       "      <td>2.506071</td>\n",
       "      <td>0.496630</td>\n",
       "      <td>-0.028748</td>\n",
       "      <td>-0.373913</td>\n",
       "      <td>1.388076</td>\n",
       "      <td>1</td>\n",
       "    </tr>\n",
       "    <tr>\n",
       "      <th>...</th>\n",
       "      <td>...</td>\n",
       "      <td>...</td>\n",
       "      <td>...</td>\n",
       "      <td>...</td>\n",
       "      <td>...</td>\n",
       "      <td>...</td>\n",
       "      <td>...</td>\n",
       "      <td>...</td>\n",
       "      <td>...</td>\n",
       "      <td>...</td>\n",
       "      <td>...</td>\n",
       "      <td>...</td>\n",
       "      <td>...</td>\n",
       "      <td>...</td>\n",
       "      <td>...</td>\n",
       "    </tr>\n",
       "    <tr>\n",
       "      <th>200034</th>\n",
       "      <td>1.0</td>\n",
       "      <td>0.0</td>\n",
       "      <td>0.0</td>\n",
       "      <td>1.0</td>\n",
       "      <td>0.0</td>\n",
       "      <td>-0.211349</td>\n",
       "      <td>-0.602550</td>\n",
       "      <td>-0.230502</td>\n",
       "      <td>-0.627157</td>\n",
       "      <td>-0.517848</td>\n",
       "      <td>0.456418</td>\n",
       "      <td>-0.270148</td>\n",
       "      <td>-0.373913</td>\n",
       "      <td>-0.754102</td>\n",
       "      <td>0</td>\n",
       "    </tr>\n",
       "    <tr>\n",
       "      <th>200035</th>\n",
       "      <td>0.0</td>\n",
       "      <td>0.0</td>\n",
       "      <td>1.0</td>\n",
       "      <td>1.0</td>\n",
       "      <td>0.0</td>\n",
       "      <td>-0.569826</td>\n",
       "      <td>-0.880572</td>\n",
       "      <td>0.455918</td>\n",
       "      <td>0.557142</td>\n",
       "      <td>-0.396568</td>\n",
       "      <td>1.042361</td>\n",
       "      <td>-0.632249</td>\n",
       "      <td>-0.373913</td>\n",
       "      <td>0.604352</td>\n",
       "      <td>0</td>\n",
       "    </tr>\n",
       "    <tr>\n",
       "      <th>200036</th>\n",
       "      <td>1.0</td>\n",
       "      <td>0.0</td>\n",
       "      <td>0.0</td>\n",
       "      <td>1.0</td>\n",
       "      <td>0.0</td>\n",
       "      <td>0.109478</td>\n",
       "      <td>-0.468437</td>\n",
       "      <td>0.536673</td>\n",
       "      <td>-0.175995</td>\n",
       "      <td>-0.648813</td>\n",
       "      <td>0.142705</td>\n",
       "      <td>-0.752950</td>\n",
       "      <td>-0.373913</td>\n",
       "      <td>-0.910847</td>\n",
       "      <td>0</td>\n",
       "    </tr>\n",
       "    <tr>\n",
       "      <th>200037</th>\n",
       "      <td>1.0</td>\n",
       "      <td>0.0</td>\n",
       "      <td>0.0</td>\n",
       "      <td>1.0</td>\n",
       "      <td>0.0</td>\n",
       "      <td>-0.058513</td>\n",
       "      <td>-0.807931</td>\n",
       "      <td>0.617428</td>\n",
       "      <td>-0.232391</td>\n",
       "      <td>-0.850972</td>\n",
       "      <td>0.516491</td>\n",
       "      <td>-0.632249</td>\n",
       "      <td>-0.373913</td>\n",
       "      <td>-0.858599</td>\n",
       "      <td>1</td>\n",
       "    </tr>\n",
       "    <tr>\n",
       "      <th>200038</th>\n",
       "      <td>0.0</td>\n",
       "      <td>0.0</td>\n",
       "      <td>1.0</td>\n",
       "      <td>1.0</td>\n",
       "      <td>0.0</td>\n",
       "      <td>-0.778618</td>\n",
       "      <td>-1.374276</td>\n",
       "      <td>-0.089181</td>\n",
       "      <td>0.669933</td>\n",
       "      <td>0.224901</td>\n",
       "      <td>0.538569</td>\n",
       "      <td>0.333353</td>\n",
       "      <td>2.356910</td>\n",
       "      <td>1.335828</td>\n",
       "      <td>0</td>\n",
       "    </tr>\n",
       "  </tbody>\n",
       "</table>\n",
       "<p>200039 rows × 15 columns</p>\n",
       "</div>"
      ],
      "text/plain": [
       "          0    1    2    3    4  first_issue_date  first_redeem_date  \\\n",
       "0       0.0  0.0  1.0  1.0  0.0         -0.769766          -0.774467   \n",
       "1       1.0  0.0  0.0  1.0  0.0         -1.344655          -1.946878   \n",
       "2       0.0  0.0  1.0  1.0  0.0          0.963771           0.382284   \n",
       "3       1.0  0.0  0.0  1.0  0.0         -0.945794           0.303902   \n",
       "4       0.0  0.0  1.0  1.0  0.0         -0.210787          -0.747337   \n",
       "...     ...  ...  ...  ...  ...               ...                ...   \n",
       "200034  1.0  0.0  0.0  1.0  0.0         -0.211349          -0.602550   \n",
       "200035  0.0  0.0  1.0  1.0  0.0         -0.569826          -0.880572   \n",
       "200036  1.0  0.0  0.0  1.0  0.0          0.109478          -0.468437   \n",
       "200037  1.0  0.0  0.0  1.0  0.0         -0.058513          -0.807931   \n",
       "200038  0.0  0.0  1.0  1.0  0.0         -0.778618          -1.374276   \n",
       "\n",
       "             age  transaction_count    av_sum  last_transaction  store_count  \\\n",
       "0      -0.028614          -0.909133  0.547241          0.342095    -0.511549   \n",
       "1       0.516484           0.669933 -0.505615          0.837526     0.816155   \n",
       "2       0.738561          -0.119600 -0.451077         -0.773153     0.091953   \n",
       "3      -0.270880          -0.288786 -0.228108          0.664267    -0.028748   \n",
       "4       0.536673          -0.119600  2.506071          0.496630    -0.028748   \n",
       "...          ...                ...       ...               ...          ...   \n",
       "200034 -0.230502          -0.627157 -0.517848          0.456418    -0.270148   \n",
       "200035  0.455918           0.557142 -0.396568          1.042361    -0.632249   \n",
       "200036  0.536673          -0.175995 -0.648813          0.142705    -0.752950   \n",
       "200037  0.617428          -0.232391 -0.850972          0.516491    -0.632249   \n",
       "200038 -0.089181           0.669933  0.224901          0.538569     0.333353   \n",
       "\n",
       "        alc_count  own_count  treatment_flg  \n",
       "0       -0.373913  -0.701854              0  \n",
       "1       -0.178855  -0.179371              1  \n",
       "2       -0.178855  -0.440613              1  \n",
       "3       -0.373913  -0.388364              1  \n",
       "4       -0.373913   1.388076              1  \n",
       "...           ...        ...            ...  \n",
       "200034  -0.373913  -0.754102              0  \n",
       "200035  -0.373913   0.604352              0  \n",
       "200036  -0.373913  -0.910847              0  \n",
       "200037  -0.373913  -0.858599              1  \n",
       "200038   2.356910   1.335828              0  \n",
       "\n",
       "[200039 rows x 15 columns]"
      ]
     },
     "execution_count": 121,
     "metadata": {},
     "output_type": "execute_result"
    }
   ],
   "source": [
    "train"
   ]
  },
  {
   "cell_type": "code",
   "execution_count": 79,
   "metadata": {},
   "outputs": [
    {
     "data": {
      "text/plain": [
       "LogisticRegression(C=1, class_weight=None, dual=False, fit_intercept=True,\n",
       "                   intercept_scaling=1, l1_ratio=None, max_iter=100,\n",
       "                   multi_class='warn', n_jobs=None, penalty='l2',\n",
       "                   random_state=17, solver='liblinear', tol=0.0001, verbose=0,\n",
       "                   warm_start=False)"
      ]
     },
     "execution_count": 79,
     "metadata": {},
     "output_type": "execute_result"
    }
   ],
   "source": [
    "logit = LogisticRegression(C=1, random_state=17, solver='liblinear')\n",
    "logit.fit(train,data_train['target'])"
   ]
  },
  {
   "cell_type": "code",
   "execution_count": 126,
   "metadata": {},
   "outputs": [],
   "source": [
    "test1 =test.copy()\n",
    "test1['treatment_flg']=1\n",
    "test0 = test.copy()\n",
    "test0['treatment_flg']=0"
   ]
  },
  {
   "cell_type": "code",
   "execution_count": 86,
   "metadata": {},
   "outputs": [],
   "source": [
    "preds1 = [i[1] for i in logit.predict_proba(test1)]\n",
    "preds0 = [i[1] for i in logit.predict_proba(test0)]"
   ]
  },
  {
   "cell_type": "code",
   "execution_count": 135,
   "metadata": {},
   "outputs": [],
   "source": [
    "uplift=[(preds1[i]-preds0[i]) for i in range(len(preds1))]"
   ]
  },
  {
   "cell_type": "code",
   "execution_count": 136,
   "metadata": {},
   "outputs": [],
   "source": [
    "sol1 = pd.DataFrame({'client_id':data_test.client_id.values,'uplift':uplift})"
   ]
  },
  {
   "cell_type": "code",
   "execution_count": 137,
   "metadata": {},
   "outputs": [],
   "source": [
    "sol1.index = sol1['client_id']\n",
    "del sol1['client_id']"
   ]
  },
  {
   "cell_type": "code",
   "execution_count": 138,
   "metadata": {},
   "outputs": [
    {
     "data": {
      "text/html": [
       "<div>\n",
       "<style scoped>\n",
       "    .dataframe tbody tr th:only-of-type {\n",
       "        vertical-align: middle;\n",
       "    }\n",
       "\n",
       "    .dataframe tbody tr th {\n",
       "        vertical-align: top;\n",
       "    }\n",
       "\n",
       "    .dataframe thead th {\n",
       "        text-align: right;\n",
       "    }\n",
       "</style>\n",
       "<table border=\"1\" class=\"dataframe\">\n",
       "  <thead>\n",
       "    <tr style=\"text-align: right;\">\n",
       "      <th></th>\n",
       "      <th>uplift</th>\n",
       "    </tr>\n",
       "    <tr>\n",
       "      <th>client_id</th>\n",
       "      <th></th>\n",
       "    </tr>\n",
       "  </thead>\n",
       "  <tbody>\n",
       "    <tr>\n",
       "      <th>000048b7a6</th>\n",
       "      <td>0.056886</td>\n",
       "    </tr>\n",
       "    <tr>\n",
       "      <th>000073194a</th>\n",
       "      <td>0.037388</td>\n",
       "    </tr>\n",
       "    <tr>\n",
       "      <th>00007c7133</th>\n",
       "      <td>0.038690</td>\n",
       "    </tr>\n",
       "    <tr>\n",
       "      <th>00007f9014</th>\n",
       "      <td>0.017279</td>\n",
       "    </tr>\n",
       "    <tr>\n",
       "      <th>0000a90cf7</th>\n",
       "      <td>0.015631</td>\n",
       "    </tr>\n",
       "    <tr>\n",
       "      <th>...</th>\n",
       "      <td>...</td>\n",
       "    </tr>\n",
       "    <tr>\n",
       "      <th>fffeacbe3e</th>\n",
       "      <td>0.033306</td>\n",
       "    </tr>\n",
       "    <tr>\n",
       "      <th>fffece623e</th>\n",
       "      <td>0.035032</td>\n",
       "    </tr>\n",
       "    <tr>\n",
       "      <th>ffff3dfff8</th>\n",
       "      <td>0.052328</td>\n",
       "    </tr>\n",
       "    <tr>\n",
       "      <th>ffffaab9da</th>\n",
       "      <td>0.021083</td>\n",
       "    </tr>\n",
       "    <tr>\n",
       "      <th>ffffeb5619</th>\n",
       "      <td>0.064051</td>\n",
       "    </tr>\n",
       "  </tbody>\n",
       "</table>\n",
       "<p>200123 rows × 1 columns</p>\n",
       "</div>"
      ],
      "text/plain": [
       "              uplift\n",
       "client_id           \n",
       "000048b7a6  0.056886\n",
       "000073194a  0.037388\n",
       "00007c7133  0.038690\n",
       "00007f9014  0.017279\n",
       "0000a90cf7  0.015631\n",
       "...              ...\n",
       "fffeacbe3e  0.033306\n",
       "fffece623e  0.035032\n",
       "ffff3dfff8  0.052328\n",
       "ffffaab9da  0.021083\n",
       "ffffeb5619  0.064051\n",
       "\n",
       "[200123 rows x 1 columns]"
      ]
     },
     "execution_count": 138,
     "metadata": {},
     "output_type": "execute_result"
    }
   ],
   "source": [
    "sol1"
   ]
  },
  {
   "cell_type": "code",
   "execution_count": 139,
   "metadata": {},
   "outputs": [],
   "source": [
    "sol1.to_csv('sol2.csv')"
   ]
  },
  {
   "cell_type": "code",
   "execution_count": 113,
   "metadata": {},
   "outputs": [],
   "source": [
    "from catboost import CatBoostClassifier"
   ]
  },
  {
   "cell_type": "code",
   "execution_count": 133,
   "metadata": {},
   "outputs": [
    {
     "data": {
      "text/plain": [
       "<catboost.core.CatBoostClassifier at 0x7f78b37a64e0>"
      ]
     },
     "execution_count": 133,
     "metadata": {},
     "output_type": "execute_result"
    }
   ],
   "source": [
    "cbc = CatBoostClassifier(thread_count=2, random_state=17, silent=True)\n",
    "cbc.fit(train,data_train['target'])"
   ]
  },
  {
   "cell_type": "code",
   "execution_count": 134,
   "metadata": {},
   "outputs": [],
   "source": [
    "preds1 = [i[1] for i in cbc.predict_proba(test1)]\n",
    "preds0 = [i[1] for i in cbc.predict_proba(test0)]"
   ]
  },
  {
   "cell_type": "code",
   "execution_count": null,
   "metadata": {},
   "outputs": [],
   "source": []
  },
  {
   "cell_type": "code",
   "execution_count": null,
   "metadata": {},
   "outputs": [],
   "source": []
  },
  {
   "cell_type": "code",
   "execution_count": null,
   "metadata": {},
   "outputs": [],
   "source": []
  }
 ],
 "metadata": {
  "kernelspec": {
   "display_name": "Python 3",
   "language": "python",
   "name": "python3"
  },
  "language_info": {
   "codemirror_mode": {
    "name": "ipython",
    "version": 3
   },
   "file_extension": ".py",
   "mimetype": "text/x-python",
   "name": "python",
   "nbconvert_exporter": "python",
   "pygments_lexer": "ipython3",
   "version": "3.6.10"
  }
 },
 "nbformat": 4,
 "nbformat_minor": 2
}
